{
 "cells": [
  {
   "cell_type": "markdown",
   "id": "header",
   "metadata": {},
   "source": [
    "# 03 — Model Comparison: TF-IDF vs Embeddings + Post-Rules\n",
    "\n",
    "This notebook compares:\n",
    "1. **TF-IDF baseline** (no rules)\n",
    "2. **TF-IDF + post-rules** (explainable keyword boosts)\n",
    "3. **Embeddings baseline** (semantic similarity)\n",
    "4. **Embeddings + post-rules** (best of both worlds)"
   ]
  },
  {
   "cell_type": "code",
   "execution_count": 2,
   "id": "imports",
   "metadata": {},
   "outputs": [
    {
     "name": "stdout",
     "output_type": "stream",
     "text": [
      "Loaded 31 controls, 1240 artifacts\n",
      "Loaded 8 post-rules\n"
     ]
    }
   ],
   "source": [
    "import yaml\n",
    "from pathlib import Path\n",
    "import pandas as pd\n",
    "import matplotlib.pyplot as plt\n",
    "\n",
    "from crs.dataio import load_artifacts, load_controls\n",
    "from crs.controls import build_index_text\n",
    "from crs.recommenders.tfidf import TFIDFRecommender\n",
    "from crs.recommenders.embeddings import EmbeddingRecommender\n",
    "from crs.postrules import apply_post_rules, Rule\n",
    "from crs.metrics import top1_accuracy, precision_at_k, recall_at_k, jaccard\n",
    "\n",
    "# Load config (use tfidf.yaml as reference)\n",
    "CFG_PATH = Path('../configs/tfidf.yaml')\n",
    "cfg = yaml.safe_load(CFG_PATH.read_text())\n",
    "\n",
    "# Resolve paths relative to project root\n",
    "project_root = Path('..').resolve()\n",
    "controls = load_controls(project_root / cfg['paths']['controls'])\n",
    "artifacts = load_artifacts(project_root / cfg['paths']['artifacts'])\n",
    "\n",
    "# Build index\n",
    "index_texts = build_index_text(controls)\n",
    "control_ids = controls['control_id'].tolist()\n",
    "\n",
    "# Load rules\n",
    "rules_cfg = yaml.safe_load((project_root / cfg['paths']['rules']).read_text())\n",
    "rules = [\n",
    "    Rule(\n",
    "        control_id=r['control_id'],\n",
    "        any_keywords=r.get('any_keywords', []),\n",
    "        all_keywords=r.get('all_keywords', []),\n",
    "        negative_keywords=r.get('negative_keywords', []),\n",
    "        boost=float(r.get('boost', 0.08)),\n",
    "        dampen=float(r.get('dampen', 0.06)),\n",
    "    )\n",
    "    for r in rules_cfg.get('rules', [])\n",
    "]\n",
    "\n",
    "print(f\"Loaded {len(controls)} controls, {len(artifacts)} artifacts\")\n",
    "print(f\"Loaded {len(rules)} post-rules\")"
   ]
  },
  {
   "cell_type": "markdown",
   "id": "tfidf_section",
   "metadata": {},
   "source": [
    "## 1. TF-IDF Models"
   ]
  },
  {
   "cell_type": "code",
   "execution_count": 3,
   "id": "tfidf_baseline",
   "metadata": {},
   "outputs": [
    {
     "name": "stdout",
     "output_type": "stream",
     "text": [
      "TF-IDF Baseline:\n",
      "  Top-1 Accuracy: 0.887\n",
      "  P@3: 0.425\n",
      "  R@3: 0.702\n",
      "  Jaccard@3: 0.380\n",
      "\n",
      "TF-IDF + Post-Rules:\n",
      "  Top-1 Accuracy: 0.929\n",
      "  P@3: 0.425\n",
      "  R@3: 0.702\n",
      "  Jaccard@3: 0.380\n"
     ]
    }
   ],
   "source": [
    "# Train TF-IDF\n",
    "tfidf_rec = TFIDFRecommender(\n",
    "    ngram_range=tuple(cfg.get('tfidf', {}).get('ngram_range', [1,2])),\n",
    "    min_df=cfg.get('tfidf', {}).get('min_df', 1)\n",
    ").fit(index_texts, control_ids)\n",
    "\n",
    "k = cfg.get('k', 3)\n",
    "test = artifacts[artifacts['split']=='test'].copy()\n",
    "\n",
    "# TF-IDF baseline (no rules)\n",
    "rows_tfidf_base = []\n",
    "for _, r in test.iterrows():\n",
    "    ids, scores = tfidf_rec.predict_topk(r['text'], k=k)\n",
    "    rows_tfidf_base.append({\n",
    "        'artifact_id': int(r['artifact_id']),\n",
    "        'text': r['text'],\n",
    "        'gold_controls': r['gold_controls'],\n",
    "        'predicted_topk': ';'.join(ids),\n",
    "        'scores_topk': ';'.join(f\"{s:.4f}\" for s in scores),\n",
    "    })\n",
    "preds_tfidf_base = pd.DataFrame(rows_tfidf_base)\n",
    "\n",
    "# TF-IDF + post-rules\n",
    "rows_tfidf_rules = []\n",
    "for _, r in test.iterrows():\n",
    "    ids, scores = tfidf_rec.predict_topk(r['text'], k=k)\n",
    "    ids, scores, notes = apply_post_rules(r['text'], ids, scores, rules)\n",
    "    ids, scores = ids[:k], scores[:k]\n",
    "    rows_tfidf_rules.append({\n",
    "        'artifact_id': int(r['artifact_id']),\n",
    "        'text': r['text'],\n",
    "        'gold_controls': r['gold_controls'],\n",
    "        'predicted_topk': ';'.join(ids),\n",
    "        'scores_topk': ';'.join(f\"{s:.4f}\" for s in scores),\n",
    "        'postrule_notes': ' | '.join(notes)\n",
    "    })\n",
    "preds_tfidf_rules = pd.DataFrame(rows_tfidf_rules)\n",
    "\n",
    "print(\"TF-IDF Baseline:\")\n",
    "print(f\"  Top-1 Accuracy: {top1_accuracy(preds_tfidf_base):.3f}\")\n",
    "print(f\"  P@{k}: {precision_at_k(preds_tfidf_base, k=k):.3f}\")\n",
    "print(f\"  R@{k}: {recall_at_k(preds_tfidf_base, k=k):.3f}\")\n",
    "print(f\"  Jaccard@{k}: {jaccard(preds_tfidf_base, k=k):.3f}\")\n",
    "\n",
    "print(\"\\nTF-IDF + Post-Rules:\")\n",
    "print(f\"  Top-1 Accuracy: {top1_accuracy(preds_tfidf_rules):.3f}\")\n",
    "print(f\"  P@{k}: {precision_at_k(preds_tfidf_rules, k=k):.3f}\")\n",
    "print(f\"  R@{k}: {recall_at_k(preds_tfidf_rules, k=k):.3f}\")\n",
    "print(f\"  Jaccard@{k}: {jaccard(preds_tfidf_rules, k=k):.3f}\")"
   ]
  },
  {
   "cell_type": "markdown",
   "id": "embeddings_section",
   "metadata": {},
   "source": [
    "## 2. Embeddings Models\n",
    "\n",
    "**Note:** This will use sentence-transformers if installed (`pip install -e .[embeddings]`), otherwise falls back to a deterministic hash-based embedding for demonstration."
   ]
  },
  {
   "cell_type": "code",
   "execution_count": 4,
   "id": "embeddings",
   "metadata": {},
   "outputs": [
    {
     "name": "stderr",
     "output_type": "stream",
     "text": [
      "/Users/mikiyas/development/hodwa/crs/.venv/lib/python3.12/site-packages/tqdm/auto.py:21: TqdmWarning: IProgress not found. Please update jupyter and ipywidgets. See https://ipywidgets.readthedocs.io/en/stable/user_install.html\n",
      "  from .autonotebook import tqdm as notebook_tqdm\n"
     ]
    },
    {
     "name": "stdout",
     "output_type": "stream",
     "text": [
      "Embeddings Baseline:\n",
      "  Top-1 Accuracy: 0.842\n",
      "  P@3: 0.532\n",
      "  R@3: 0.858\n",
      "  Jaccard@3: 0.508\n",
      "\n",
      "Embeddings + Post-Rules:\n",
      "  Top-1 Accuracy: 0.863\n",
      "  P@3: 0.532\n",
      "  R@3: 0.858\n",
      "  Jaccard@3: 0.508\n"
     ]
    }
   ],
   "source": [
    "# Load embeddings config for proper model name\n",
    "emb_cfg = yaml.safe_load((project_root / 'configs/embeddings.yaml').read_text())\n",
    "\n",
    "# Train Embeddings\n",
    "emb_rec = EmbeddingRecommender(\n",
    "    model_name=emb_cfg.get('embeddings', {}).get('model_name')\n",
    ").fit(index_texts, control_ids)\n",
    "\n",
    "# Embeddings baseline (no rules)\n",
    "rows_emb_base = []\n",
    "for _, r in test.iterrows():\n",
    "    ids, scores = emb_rec.predict_topk(r['text'], k=k)\n",
    "    rows_emb_base.append({\n",
    "        'artifact_id': int(r['artifact_id']),\n",
    "        'text': r['text'],\n",
    "        'gold_controls': r['gold_controls'],\n",
    "        'predicted_topk': ';'.join(ids),\n",
    "        'scores_topk': ';'.join(f\"{s:.4f}\" for s in scores),\n",
    "    })\n",
    "preds_emb_base = pd.DataFrame(rows_emb_base)\n",
    "\n",
    "# Embeddings + post-rules\n",
    "rows_emb_rules = []\n",
    "for _, r in test.iterrows():\n",
    "    ids, scores = emb_rec.predict_topk(r['text'], k=k)\n",
    "    ids, scores, notes = apply_post_rules(r['text'], ids, scores, rules)\n",
    "    ids, scores = ids[:k], scores[:k]\n",
    "    rows_emb_rules.append({\n",
    "        'artifact_id': int(r['artifact_id']),\n",
    "        'text': r['text'],\n",
    "        'gold_controls': r['gold_controls'],\n",
    "        'predicted_topk': ';'.join(ids),\n",
    "        'scores_topk': ';'.join(f\"{s:.4f}\" for s in scores),\n",
    "        'postrule_notes': ' | '.join(notes)\n",
    "    })\n",
    "preds_emb_rules = pd.DataFrame(rows_emb_rules)\n",
    "\n",
    "print(\"Embeddings Baseline:\")\n",
    "print(f\"  Top-1 Accuracy: {top1_accuracy(preds_emb_base):.3f}\")\n",
    "print(f\"  P@{k}: {precision_at_k(preds_emb_base, k=k):.3f}\")\n",
    "print(f\"  R@{k}: {recall_at_k(preds_emb_base, k=k):.3f}\")\n",
    "print(f\"  Jaccard@{k}: {jaccard(preds_emb_base, k=k):.3f}\")\n",
    "\n",
    "print(\"\\nEmbeddings + Post-Rules:\")\n",
    "print(f\"  Top-1 Accuracy: {top1_accuracy(preds_emb_rules):.3f}\")\n",
    "print(f\"  P@{k}: {precision_at_k(preds_emb_rules, k=k):.3f}\")\n",
    "print(f\"  R@{k}: {recall_at_k(preds_emb_rules, k=k):.3f}\")\n",
    "print(f\"  Jaccard@{k}: {jaccard(preds_emb_rules, k=k):.3f}\")"
   ]
  },
  {
   "cell_type": "markdown",
   "id": "comparison",
   "metadata": {},
   "source": [
    "## 3. Side-by-Side Comparison"
   ]
  },
  {
   "cell_type": "code",
   "execution_count": 5,
   "id": "comparison_table",
   "metadata": {},
   "outputs": [
    {
     "data": {
      "text/html": [
       "<div>\n",
       "<style scoped>\n",
       "    .dataframe tbody tr th:only-of-type {\n",
       "        vertical-align: middle;\n",
       "    }\n",
       "\n",
       "    .dataframe tbody tr th {\n",
       "        vertical-align: top;\n",
       "    }\n",
       "\n",
       "    .dataframe thead th {\n",
       "        text-align: right;\n",
       "    }\n",
       "</style>\n",
       "<table border=\"1\" class=\"dataframe\">\n",
       "  <thead>\n",
       "    <tr style=\"text-align: right;\">\n",
       "      <th></th>\n",
       "      <th>Model</th>\n",
       "      <th>Post-Rules</th>\n",
       "      <th>Top-1 Acc</th>\n",
       "      <th>P@3</th>\n",
       "      <th>R@3</th>\n",
       "      <th>Jaccard@3</th>\n",
       "    </tr>\n",
       "  </thead>\n",
       "  <tbody>\n",
       "    <tr>\n",
       "      <th>0</th>\n",
       "      <td>TF-IDF</td>\n",
       "      <td>No</td>\n",
       "      <td>0.888</td>\n",
       "      <td>0.425</td>\n",
       "      <td>0.702</td>\n",
       "      <td>0.380</td>\n",
       "    </tr>\n",
       "    <tr>\n",
       "      <th>1</th>\n",
       "      <td>TF-IDF</td>\n",
       "      <td>Yes</td>\n",
       "      <td>0.929</td>\n",
       "      <td>0.425</td>\n",
       "      <td>0.702</td>\n",
       "      <td>0.380</td>\n",
       "    </tr>\n",
       "    <tr>\n",
       "      <th>2</th>\n",
       "      <td>Embeddings</td>\n",
       "      <td>No</td>\n",
       "      <td>0.842</td>\n",
       "      <td>0.532</td>\n",
       "      <td>0.858</td>\n",
       "      <td>0.508</td>\n",
       "    </tr>\n",
       "    <tr>\n",
       "      <th>3</th>\n",
       "      <td>Embeddings</td>\n",
       "      <td>Yes</td>\n",
       "      <td>0.862</td>\n",
       "      <td>0.532</td>\n",
       "      <td>0.858</td>\n",
       "      <td>0.508</td>\n",
       "    </tr>\n",
       "  </tbody>\n",
       "</table>\n",
       "</div>"
      ],
      "text/plain": [
       "        Model Post-Rules  Top-1 Acc    P@3    R@3  Jaccard@3\n",
       "0      TF-IDF         No      0.888  0.425  0.702      0.380\n",
       "1      TF-IDF        Yes      0.929  0.425  0.702      0.380\n",
       "2  Embeddings         No      0.842  0.532  0.858      0.508\n",
       "3  Embeddings        Yes      0.862  0.532  0.858      0.508"
      ]
     },
     "metadata": {},
     "output_type": "display_data"
    },
    {
     "name": "stdout",
     "output_type": "stream",
     "text": [
      "\n",
      "Saved comparison to ../eval/tables/model_comparison.csv\n"
     ]
    }
   ],
   "source": [
    "# Create comparison table\n",
    "comparison = pd.DataFrame([\n",
    "    {\n",
    "        'Model': 'TF-IDF',\n",
    "        'Post-Rules': 'No',\n",
    "        'Top-1 Acc': top1_accuracy(preds_tfidf_base),\n",
    "        f'P@{k}': precision_at_k(preds_tfidf_base, k=k),\n",
    "        f'R@{k}': recall_at_k(preds_tfidf_base, k=k),\n",
    "        f'Jaccard@{k}': jaccard(preds_tfidf_base, k=k)\n",
    "    },\n",
    "    {\n",
    "        'Model': 'TF-IDF',\n",
    "        'Post-Rules': 'Yes',\n",
    "        'Top-1 Acc': top1_accuracy(preds_tfidf_rules),\n",
    "        f'P@{k}': precision_at_k(preds_tfidf_rules, k=k),\n",
    "        f'R@{k}': recall_at_k(preds_tfidf_rules, k=k),\n",
    "        f'Jaccard@{k}': jaccard(preds_tfidf_rules, k=k)\n",
    "    },\n",
    "    {\n",
    "        'Model': 'Embeddings',\n",
    "        'Post-Rules': 'No',\n",
    "        'Top-1 Acc': top1_accuracy(preds_emb_base),\n",
    "        f'P@{k}': precision_at_k(preds_emb_base, k=k),\n",
    "        f'R@{k}': recall_at_k(preds_emb_base, k=k),\n",
    "        f'Jaccard@{k}': jaccard(preds_emb_base, k=k)\n",
    "    },\n",
    "    {\n",
    "        'Model': 'Embeddings',\n",
    "        'Post-Rules': 'Yes',\n",
    "        'Top-1 Acc': top1_accuracy(preds_emb_rules),\n",
    "        f'P@{k}': precision_at_k(preds_emb_rules, k=k),\n",
    "        f'R@{k}': recall_at_k(preds_emb_rules, k=k),\n",
    "        f'Jaccard@{k}': jaccard(preds_emb_rules, k=k)\n",
    "    }\n",
    "])\n",
    "\n",
    "display(comparison.round(3))\n",
    "\n",
    "# Save comparison\n",
    "OUT_DIR = Path('../eval/tables')\n",
    "OUT_DIR.mkdir(parents=True, exist_ok=True)\n",
    "comparison.to_csv(OUT_DIR / 'model_comparison.csv', index=False)\n",
    "print(f'\\nSaved comparison to {OUT_DIR / \"model_comparison.csv\"}')"
   ]
  },
  {
   "cell_type": "markdown",
   "id": "viz",
   "metadata": {},
   "source": [
    "## 4. Visualization"
   ]
  },
  {
   "cell_type": "code",
   "execution_count": 6,
   "id": "plot",
   "metadata": {},
   "outputs": [
    {
     "data": {
      "image/png": "[encoded data removed]",
      "text/plain": [
       "<Figure size 1200x800 with 4 Axes>"
      ]
     },
     "metadata": {},
     "output_type": "display_data"
    },
    {
     "name": "stdout",
     "output_type": "stream",
     "text": [
      "Saved plot to eval/tables/model_comparison.png\n"
     ]
    }
   ],
   "source": [
    "# Plot comparison\n",
    "fig, axes = plt.subplots(2, 2, figsize=(12, 8))\n",
    "\n",
    "metrics = ['Top-1 Acc', f'P@{k}', f'R@{k}', f'Jaccard@{k}']\n",
    "for idx, metric in enumerate(metrics):\n",
    "    ax = axes[idx // 2, idx % 2]\n",
    "    comparison.plot(x='Model', y=metric, kind='bar', ax=ax, legend=False)\n",
    "    ax.set_title(metric)\n",
    "    ax.set_ylabel('Score')\n",
    "    ax.set_ylim(0, 1)\n",
    "    ax.set_xticklabels(['TF-IDF\\n(no rules)', 'TF-IDF\\n(+rules)', 'Embeddings\\n(no rules)', 'Embeddings\\n(+rules)'], rotation=0)\n",
    "    ax.grid(axis='y', alpha=0.3)\n",
    "\n",
    "plt.tight_layout()\n",
    "plt.savefig('../eval/tables/model_comparison.png', dpi=150, bbox_inches='tight')\n",
    "plt.show()\n",
    "\n",
    "print('Saved plot to eval/tables/model_comparison.png')"
   ]
  },
  {
   "cell_type": "markdown",
   "id": "examples",
   "metadata": {},
   "source": [
    "## 5. Example Predictions with Post-Rule Explanations"
   ]
  },
  {
   "cell_type": "code",
   "execution_count": 7,
   "id": "example_explanations",
   "metadata": {},
   "outputs": [
    {
     "name": "stdout",
     "output_type": "stream",
     "text": [
      "\n",
      "================================================================================\n",
      "Artifact 3:\n",
      "Text: Missing monthly patching; critical CVEs outstanding on db-02....\n",
      "Gold: SI-2;RA-5\n",
      "Predicted: SI-2;AC-17;SI-3\n",
      "Rules Applied: None\n",
      "\n",
      "================================================================================\n",
      "Artifact 4:\n",
      "Text: SIEM review missed for 30 days; high severity alerts untriaged....\n",
      "Gold: AU-6;SI-4\n",
      "Predicted: AU-6;SI-4;AC-2\n",
      "Rules Applied: None\n",
      "\n",
      "================================================================================\n",
      "Artifact 13:\n",
      "Text: NTP drift 120s on proxy-01; not synced to authoritative time source....\n",
      "Gold: AU-8\n",
      "Predicted: AU-8;AU-3;AC-17\n",
      "Rules Applied: +0.10 AU-8 (any:ntp,time drift,time skew,clock drift,unsynced)\n",
      "\n",
      "================================================================================\n",
      "Artifact 15:\n",
      "Text: File integrity monitoring not deployed on proxy-01 fleet; checksum alerts missing....\n",
      "Gold: SI-7;SI-4\n",
      "Predicted: SI-2;SI-7;SC-8\n",
      "Rules Applied: None\n",
      "\n",
      "================================================================================\n",
      "Artifact 16:\n",
      "Text: Backups not encrypted; last restore test older than 18 months....\n",
      "Gold: CP-9;SC-28\n",
      "Predicted: CP-9;AC-17;SI-3\n",
      "Rules Applied: None\n"
     ]
    }
   ],
   "source": [
    "# Show a few examples with rule explanations\n",
    "sample_size = 5\n",
    "sample_preds = preds_tfidf_rules.head(sample_size)[['artifact_id', 'text', 'gold_controls', 'predicted_topk', 'postrule_notes']]\n",
    "\n",
    "for _, row in sample_preds.iterrows():\n",
    "    print(f\"\\n{'='*80}\")\n",
    "    print(f\"Artifact {row['artifact_id']}:\")\n",
    "    print(f\"Text: {row['text'][:100]}...\")\n",
    "    print(f\"Gold: {row['gold_controls']}\")\n",
    "    print(f\"Predicted: {row['predicted_topk']}\")\n",
    "    if row['postrule_notes']:\n",
    "        print(f\"Rules Applied: {row['postrule_notes']}\")\n",
    "    else:\n",
    "        print(\"Rules Applied: None\")"
   ]
  }
 ],
 "metadata": {
  "kernelspec": {
   "display_name": ".venv",
   "language": "python",
   "name": "python3"
  },
  "language_info": {
   "codemirror_mode": {
    "name": "ipython",
    "version": 3
   },
   "file_extension": ".py",
   "mimetype": "text/x-python",
   "name": "python",
   "nbconvert_exporter": "python",
   "pygments_lexer": "ipython3",
   "version": "3.12.7"
  }
 },
 "nbformat": 4,
 "nbformat_minor": 5
}
