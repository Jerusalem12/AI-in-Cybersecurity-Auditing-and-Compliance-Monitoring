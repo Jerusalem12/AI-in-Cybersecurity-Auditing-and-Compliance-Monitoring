{
  "cells": [
    {
      "cell_type": "markdown",
      "metadata": {},
      "source": [
        "# 02 \u00b7 Build Pairs with Hard Negatives"
      ]
    },
    {
      "cell_type": "markdown",
      "metadata": {},
      "source": [
        "## Purpose\n\nConstruct supervised pairs with positives and BM25/TF-IDF hard negatives for ranking models."
      ]
    },
    {
      "cell_type": "markdown",
      "metadata": {},
      "source": [
        "## Inputs\n\n- `data/raw/controls.csv` with control metadata for indexing.\n- `data/processed/artifacts_with_split.csv` produced by Notebook 01."
      ]
    },
    {
      "cell_type": "markdown",
      "metadata": {},
      "source": [
        "## Outputs\n\n- `data/processed/pairs/train.jsonl`, `.../dev.jsonl`, and `.../test.jsonl` in the defined schema.\n- Optional diagnostics on positive/negative counts per split."
      ]
    },
    {
      "cell_type": "markdown",
      "metadata": {},
      "source": [
        "## Steps\n\n1. Create control index strings by concatenating title and summary (\"title. summary\").\n2. Instantiate a lexical retriever (BM25 or TF-IDF) over control texts.\n3. For each artifact, retrieve top-K candidate controls (e.g., 32) as hard-negative candidates.\n4. Emit labeled pairs: all gold controls as positives plus non-gold retrieved controls as negatives.\n5. Segment outputs by artifact partition and serialize to JSONL following the pair schema."
      ]
    },
    {
      "cell_type": "markdown",
      "metadata": {},
      "source": [
        "## Acceptance Checks\n\n- No artifact from the test split appears in train or dev pair files.\n- Every train artifact yields at least one positive pair (label == 1)."
      ]
    }
  ],
  "metadata": {
    "kernelspec": {
      "display_name": "Python 3",
      "language": "python",
      "name": "python3"
    },
    "language_info": {
      "name": "python",
      "version": "3.11"
    }
  },
  "nbformat": 4,
  "nbformat_minor": 5
}
