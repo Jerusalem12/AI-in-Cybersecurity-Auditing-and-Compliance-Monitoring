{
 "cells": [
  {
   "cell_type": "markdown",
   "id": "d2426168",
   "metadata": {},
   "source": [
    "# 01 — Explore Data\n",
    "This notebook does a quick EDA of `data/raw/artifacts.csv` and `data/raw/controls.csv`."
   ]
  },
  {
   "cell_type": "code",
   "execution_count": null,
   "id": "4a09fc04",
   "metadata": {},
   "outputs": [],
   "source": [
    "\n",
    "import os\n",
    "from pathlib import Path\n",
    "import pandas as pd\n",
    "import numpy as np\n",
    "import matplotlib.pyplot as plt\n",
    "\n",
    "ART_PATH = Path('../data/raw/artifacts.csv')\n",
    "CTRL_PATH = Path('../data/raw/controls.csv')\n",
    "\n",
    "assert ART_PATH.exists(), f\"Missing {ART_PATH}\"\n",
    "assert CTRL_PATH.exists(), f\"Missing {CTRL_PATH}\"\n",
    "\n",
    "art = pd.read_csv(ART_PATH)\n",
    "ctrl = pd.read_csv(CTRL_PATH)\n",
    "\n",
    "display(art.head(10))\n",
    "display(ctrl.head(10))\n",
    "\n",
    "print(\"Artifacts shape:\", art.shape)\n",
    "print(\"Controls shape:\", ctrl.shape)\n"
   ]
  },
  {
   "cell_type": "markdown",
   "id": "20fbd9dc",
   "metadata": {},
   "source": [
    "# Label counts (by control family)"
   ]
  },
  {
   "cell_type": "code",
   "execution_count": null,
   "id": "90bc6762",
   "metadata": {},
   "outputs": [],
   "source": [
    "\n",
    "cid2fam = dict(zip(ctrl['control_id'], ctrl['family']))\n",
    "rows = []\n",
    "for _, r in art.iterrows():\n",
    "    for cid in str(r['gold_controls']).split(';'):\n",
    "        cid = cid.strip()\n",
    "        if not cid:\n",
    "            continue\n",
    "        rows.append({'family': cid2fam.get(cid, 'UNK'), 'cid': cid})\n",
    "lab = pd.DataFrame(rows)\n",
    "fam_counts = lab['family'].value_counts().sort_index()\n",
    "cid_counts = lab['cid'].value_counts().sort_index()\n",
    "display(fam_counts.to_frame('count'))\n",
    "display(cid_counts.to_frame('count'))\n",
    "\n",
    "plt.figure()\n",
    "fam_counts.plot(kind='bar')\n",
    "plt.title('Gold label distribution by family')\n",
    "plt.xlabel('Control Family')\n",
    "plt.ylabel('Count')\n",
    "plt.tight_layout()\n"
   ]
  },
  {
   "cell_type": "markdown",
   "id": "4d29a526",
   "metadata": {},
   "source": [
    "# Evidence type and split summary"
   ]
  },
  {
   "cell_type": "code",
   "execution_count": null,
   "id": "1e9d4dc6",
   "metadata": {},
   "outputs": [],
   "source": [
    "\n",
    "etype_counts = art.groupby(['split','evidence_type']).size().unstack(fill_value=0)\n",
    "display(etype_counts)\n",
    "\n",
    "plt.figure()\n",
    "etype_counts.T.plot(kind='bar')\n",
    "plt.title('Evidence type by split')\n",
    "plt.xlabel('Evidence Type')\n",
    "plt.ylabel('Count')\n",
    "plt.tight_layout()\n"
   ]
  },
  {
   "cell_type": "markdown",
   "id": "105c78da",
   "metadata": {},
   "source": [
    "# Text length distribution"
   ]
  },
  {
   "cell_type": "code",
   "execution_count": null,
   "id": "7d7d1cd7",
   "metadata": {},
   "outputs": [],
   "source": [
    "\n",
    "text_len = art['text'].fillna('').map(lambda s: len(s.split()))\n",
    "print(text_len.describe())\n",
    "\n",
    "plt.figure()\n",
    "text_len.plot(kind='hist', bins=30)\n",
    "plt.title('Token length distribution')\n",
    "plt.xlabel('Words')\n",
    "plt.tight_layout()\n"
   ]
  }
 ],
 "metadata": {
  "kernelspec": {
   "display_name": "Python 3",
   "language": "python",
   "name": "python3"
  }
 },
 "nbformat": 4,
 "nbformat_minor": 5
}