{
  "cells": [
    {
      "cell_type": "markdown",
      "metadata": {},
      "source": [
        "# 06 \u00b7 Unified Inference Pipeline"
      ]
    },
    {
      "cell_type": "markdown",
      "metadata": {},
      "source": [
        "## Purpose\n\nRun the end-to-end pipeline (BM25 + bi-encoder fusion, cross-encoder rerank, Auto-K outputs)."
      ]
    },
    {
      "cell_type": "markdown",
      "metadata": {},
      "source": [
        "## Inputs\n\n- `data/processed/artifacts_with_split.csv` filtered to the desired partition.\n- Trained assets: `models/bm25/` (optional cache), `models/bi_encoder/`, `models/cross_encoder/`, calibration file, and Auto-K classifier.\n- `configs/predict_hybrid.yaml` with runtime parameters."
      ]
    },
    {
      "cell_type": "markdown",
      "metadata": {},
      "source": [
        "## Outputs\n\n- `outputs/predictions/test.csv` containing ranked control predictions for held-out test artifacts.\n- `outputs/predictions/dev.csv` optional sanity predictions for dev (if executed)."
      ]
    },
    {
      "cell_type": "markdown",
      "metadata": {},
      "source": [
        "## Steps\n\n1. Load configuration values (paths, retrieval depths, fusion weights, thresholds).\n2. Retrieve candidate controls by fusing BM25 and bi-encoder scores; retain the top N for reranking.\n3. Apply the cross-encoder to rerank candidates and calibrate probabilities.\n4. Feed artifact-level features into the Auto-K model to decide how many controls (1\u20133) to emit.\n5. Write prediction files with artifact_id, selected controls, probabilities, and supporting fields."
      ]
    },
    {
      "cell_type": "markdown",
      "metadata": {},
      "source": [
        "## Acceptance Checks\n\n- Average number of predicted controls falls between 1 and ~2.x with all lengths in {1,2,3}.\n- Gold labels are not referenced during inference (test partition only).\n- `outputs/predictions/test.csv` is produced at the end of the run."
      ]
    }
  ],
  "metadata": {
    "kernelspec": {
      "display_name": "Python 3",
      "language": "python",
      "name": "python3"
    },
    "language_info": {
      "name": "python",
      "version": "3.11"
    }
  },
  "nbformat": 4,
  "nbformat_minor": 5
}
