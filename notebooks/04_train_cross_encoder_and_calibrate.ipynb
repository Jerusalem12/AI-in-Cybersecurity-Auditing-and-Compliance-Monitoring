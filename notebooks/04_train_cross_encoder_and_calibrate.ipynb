{
 "cells": [
  {
   "cell_type": "markdown",
   "metadata": {},
   "source": [
    "# 04 · Train Cross-Encoder + Calibrate"
   ]
  },
  {
   "cell_type": "markdown",
   "metadata": {},
   "source": [
    "## Purpose\n",
    "\n",
    "Train a cross-encoder reranker and calibrate its probabilities on the dev split."
   ]
  },
  {
   "cell_type": "markdown",
   "metadata": {},
   "source": [
    "## Inputs\n",
    "\n",
    "- `data/processed/pairs/train.jsonl` with labeled pairs.\n",
    "- `data/processed/pairs/dev.jsonl` for validation and calibration."
   ]
  },
  {
   "cell_type": "markdown",
   "metadata": {},
   "source": [
    "## Outputs\n",
    "\n",
    "- `models/cross_encoder/` with fine-tuned cross-encoder weights.\n",
    "- `models/calibration/cross_iso.pkl` (or equivalent) storing the calibration model."
   ]
  },
  {
   "cell_type": "markdown",
   "metadata": {},
   "source": [
    "## Steps\n",
    "\n",
    "1. Load `cross-encoder/ms-marco-MiniLM-L6-v2` (or L-2 variant) as the base checkpoint.\n",
    "2. Fine-tune using binary cross-entropy loss with batch size 32, learning rate 1.5e-5, for 2–3 epochs.\n",
    "3. Track dev metrics such as AUC and MAP to monitor overfitting.\n",
    "4. Collect dev logits/probabilities and fit an isotonic or Platt calibrator (dev only).\n",
    "5. Save the calibrated model and visualize reliability (ECE or curve) for reporting."
   ]
  },
  {
   "cell_type": "markdown",
   "metadata": {},
   "source": [
    "## Acceptance Checks\n",
    "\n",
    "- `models/calibration/cross_iso.pkl` (or chosen filename) exists after the run.\n",
    "- Dev AUC/MAP along with calibration diagnostics (reliability or ECE) are reported."
   ]
  },
  {
   "cell_type": "code",
   "execution_count": 11,
   "id": "2mj9wn0rg2m",
   "metadata": {},
   "outputs": [
    {
     "name": "stdout",
     "output_type": "stream",
     "text": [
      "Using device: mps\n"
     ]
    }
   ],
   "source": [
    "import pandas as pd\n",
    "import numpy as np\n",
    "import json\n",
    "from pathlib import Path\n",
    "import pickle\n",
    "import torch\n",
    "from sentence_transformers import CrossEncoder\n",
    "from sklearn.metrics import roc_auc_score, average_precision_score, log_loss\n",
    "from sklearn.calibration import calibration_curve, IsotonicRegression\n",
    "import matplotlib.pyplot as plt\n",
    "\n",
    "# Set random seeds\n",
    "RANDOM_SEED = 42\n",
    "np.random.seed(RANDOM_SEED)\n",
    "torch.manual_seed(RANDOM_SEED)\n",
    "\n",
    "# Check device\n",
    "device = \"cuda\" if torch.cuda.is_available() else \"mps\" if torch.backends.mps.is_available() else \"cpu\"\n",
    "print(f\"Using device: {device}\")"
   ]
  },
  {
   "cell_type": "markdown",
   "id": "cxhsac2a83",
   "metadata": {},
   "source": [
    "## 1. Load training and dev pairs"
   ]
  },
  {
   "cell_type": "code",
   "execution_count": 12,
   "id": "l0pwixhkaq",
   "metadata": {},
   "outputs": [
    {
     "name": "stdout",
     "output_type": "stream",
     "text": [
      "✓ Loaded 59373 train pairs\n",
      "✓ Loaded 11683 dev pairs\n",
      "\n",
      "  Sample pair:\n",
      "    Artifact: User 'svc-api' failed login 11 times in 2 minutes; account w...\n",
      "    Control: System Component Inventory. Maintain accurate, up-to-date as...\n",
      "    Label: 0\n"
     ]
    }
   ],
   "source": [
    "def load_pairs(jsonl_path):\n",
    "    \"\"\"Load pairs from JSONL file\"\"\"\n",
    "    pairs = []\n",
    "    with open(jsonl_path, \"r\") as f:\n",
    "        for line in f:\n",
    "            pairs.append(json.loads(line))\n",
    "    return pairs\n",
    "\n",
    "# Load pairs\n",
    "train_pairs = load_pairs(\"../data/processed/pairs/train.jsonl\")\n",
    "dev_pairs = load_pairs(\"../data/processed/pairs/dev.jsonl\")\n",
    "\n",
    "print(f\"✓ Loaded {len(train_pairs)} train pairs\")\n",
    "print(f\"✓ Loaded {len(dev_pairs)} dev pairs\")\n",
    "print(f\"\\n  Sample pair:\")\n",
    "print(f\"    Artifact: {train_pairs[0]['artifact_text'][:60]}...\")\n",
    "print(f\"    Control: {train_pairs[0]['control_text'][:60]}...\")\n",
    "print(f\"    Label: {train_pairs[0]['label']}\")"
   ]
  },
  {
   "cell_type": "markdown",
   "id": "wbfbrd8hj2",
   "metadata": {},
   "source": [
    "## 2. Load and train cross-encoder"
   ]
  },
  {
   "cell_type": "code",
   "execution_count": 13,
   "id": "d9ut3mtejbc",
   "metadata": {},
   "outputs": [
    {
     "name": "stdout",
     "output_type": "stream",
     "text": [
      "Loading base model: cross-encoder/ms-marco-MiniLM-L6-v2\n",
      "This may take a few minutes on first run (downloading model)...\n",
      "Model size: ~90MB\n",
      "✓ Model loaded successfully on mps\n",
      "\n",
      "Training configuration:\n",
      "  Epochs: 2\n",
      "  Batch size: 32\n",
      "  Learning rate: 1.5e-05\n",
      "  Output path: ../models/cross_encoder\n",
      "\n",
      "============================================================\n",
      "Starting training...\n",
      "============================================================\n",
      "\n"
     ]
    }
   ],
   "source": [
    "# Load base cross-encoder model\n",
    "BASE_MODEL = \"cross-encoder/ms-marco-MiniLM-L6-v2\"\n",
    "OUTPUT_PATH = \"../models/cross_encoder\"\n",
    "\n",
    "print(f\"Loading base model: {BASE_MODEL}\")\n",
    "print(\"This may take a few minutes on first run (downloading model)...\")\n",
    "print(\"Model size: ~90MB\")\n",
    "\n",
    "try:\n",
    "    model = CrossEncoder(BASE_MODEL, num_labels=1, device=device)\n",
    "    print(f\"✓ Model loaded successfully on {device}\")\n",
    "except Exception as e:\n",
    "    print(f\"❌ Error loading model: {e}\")\n",
    "    print(\"\\nTroubleshooting:\")\n",
    "    print(\"1. Check internet connection\")\n",
    "    print(\"2. Clear HuggingFace cache: rm -rf ~/.cache/huggingface/\")\n",
    "    print(\"3. Try downloading manually: huggingface-cli download cross-encoder/ms-marco-MiniLM-L6-v2\")\n",
    "    raise\n",
    "\n",
    "# Training configuration\n",
    "BATCH_SIZE = 32\n",
    "NUM_EPOCHS = 2\n",
    "LEARNING_RATE = 1.5e-5\n",
    "\n",
    "print(f\"\\nTraining configuration:\")\n",
    "print(f\"  Epochs: {NUM_EPOCHS}\")\n",
    "print(f\"  Batch size: {BATCH_SIZE}\")\n",
    "print(f\"  Learning rate: {LEARNING_RATE}\")\n",
    "print(f\"  Output path: {OUTPUT_PATH}\")\n",
    "\n",
    "# Create output directory\n",
    "Path(OUTPUT_PATH).mkdir(parents=True, exist_ok=True)\n",
    "\n",
    "print(f\"\\n{'='*60}\")\n",
    "print(f\"Starting training...\")\n",
    "print(f\"{'='*60}\\n\")"
   ]
  },
  {
   "cell_type": "code",
   "execution_count": 14,
   "id": "k7hi5nn59w",
   "metadata": {},
   "outputs": [
    {
     "name": "stdout",
     "output_type": "stream",
     "text": [
      "✓ Created 59373 training examples\n",
      "✓ Created DataLoader with batch size 32\n",
      "  Total batches: 1856\n",
      "\n",
      "============================================================\n",
      "Training...\n",
      "============================================================\n",
      "\n"
     ]
    },
    {
     "name": "stderr",
     "output_type": "stream",
     "text": [
      "/Users/mikiyas/development/hodwa/crs/venv/lib/python3.12/site-packages/torch/utils/data/dataloader.py:692: UserWarning: 'pin_memory' argument is set as true but not supported on MPS now, device pinned memory won't be used.\n",
      "  warnings.warn(warn_msg)\n"
     ]
    },
    {
     "data": {
      "text/html": [
       "\n",
       "    <div>\n",
       "      \n",
       "      <progress value='3712' max='3712' style='width:300px; height:20px; vertical-align: middle;'></progress>\n",
       "      [3712/3712 19:50, Epoch 2/2]\n",
       "    </div>\n",
       "    <table border=\"1\" class=\"dataframe\">\n",
       "  <thead>\n",
       " <tr style=\"text-align: left;\">\n",
       "      <th>Step</th>\n",
       "      <th>Training Loss</th>\n",
       "    </tr>\n",
       "  </thead>\n",
       "  <tbody>\n",
       "    <tr>\n",
       "      <td>500</td>\n",
       "      <td>0.154600</td>\n",
       "    </tr>\n",
       "    <tr>\n",
       "      <td>1000</td>\n",
       "      <td>0.102100</td>\n",
       "    </tr>\n",
       "    <tr>\n",
       "      <td>1500</td>\n",
       "      <td>0.082500</td>\n",
       "    </tr>\n",
       "    <tr>\n",
       "      <td>2000</td>\n",
       "      <td>0.079500</td>\n",
       "    </tr>\n",
       "    <tr>\n",
       "      <td>2500</td>\n",
       "      <td>0.073100</td>\n",
       "    </tr>\n",
       "    <tr>\n",
       "      <td>3000</td>\n",
       "      <td>0.064900</td>\n",
       "    </tr>\n",
       "    <tr>\n",
       "      <td>3500</td>\n",
       "      <td>0.067600</td>\n",
       "    </tr>\n",
       "  </tbody>\n",
       "</table><p>"
      ],
      "text/plain": [
       "<IPython.core.display.HTML object>"
      ]
     },
     "metadata": {},
     "output_type": "display_data"
    },
    {
     "name": "stdout",
     "output_type": "stream",
     "text": [
      "\n",
      "============================================================\n",
      "✓ Training complete!\n",
      "============================================================\n"
     ]
    }
   ],
   "source": [
    "# Prepare training data for CrossEncoder\n",
    "from torch.utils.data import DataLoader\n",
    "from sentence_transformers import InputExample\n",
    "\n",
    "# Convert pairs directly to InputExample format\n",
    "train_input_examples = [\n",
    "    InputExample(texts=[pair['artifact_text'], pair['control_text']], label=float(pair['label']))\n",
    "    for pair in train_pairs\n",
    "]\n",
    "\n",
    "print(f\"✓ Created {len(train_input_examples)} training examples\")\n",
    "\n",
    "# Create DataLoader\n",
    "train_dataloader = DataLoader(train_input_examples, shuffle=True, batch_size=BATCH_SIZE)\n",
    "\n",
    "print(f\"✓ Created DataLoader with batch size {BATCH_SIZE}\")\n",
    "print(f\"  Total batches: {len(train_dataloader)}\")\n",
    "\n",
    "# Train the model\n",
    "print(f\"\\n{'='*60}\")\n",
    "print(f\"Training...\")\n",
    "print(f\"{'='*60}\\n\")\n",
    "\n",
    "model.fit(\n",
    "    train_dataloader=train_dataloader,\n",
    "    epochs=NUM_EPOCHS,\n",
    "    warmup_steps=int(len(train_dataloader) * 0.1),  # 10% warmup\n",
    "    show_progress_bar=True,\n",
    "    output_path=OUTPUT_PATH,\n",
    ")\n",
    "\n",
    "print(f\"\\n{'='*60}\")\n",
    "print(f\"✓ Training complete!\")\n",
    "print(f\"{'='*60}\")"
   ]
  },
  {
   "cell_type": "code",
   "execution_count": 15,
   "id": "5b4n2odw2jv",
   "metadata": {},
   "outputs": [
    {
     "name": "stdout",
     "output_type": "stream",
     "text": [
      "\n",
      "Saving model to ../models/cross_encoder...\n",
      "✓ Model saved successfully\n",
      "  Saved files: ['model.safetensors', 'tokenizer_config.json', 'special_tokens_map.json', 'config.json', 'tokenizer.json', 'README.md', 'vocab.txt']\n"
     ]
    }
   ],
   "source": [
    "# Explicitly save the trained model\n",
    "print(f\"\\nSaving model to {OUTPUT_PATH}...\")\n",
    "model.save(OUTPUT_PATH)\n",
    "print(f\"✓ Model saved successfully\")\n",
    "\n",
    "# Verify model files exist\n",
    "saved_files = list(Path(OUTPUT_PATH).glob(\"*\"))\n",
    "print(f\"  Saved files: {[f.name for f in saved_files]}\")"
   ]
  },
  {
   "cell_type": "markdown",
   "id": "5kgmfonkjwg",
   "metadata": {},
   "source": [
    "## 3. Evaluate on dev set and get predictions for calibration"
   ]
  },
  {
   "cell_type": "code",
   "execution_count": 16,
   "id": "9kemvl16gn8",
   "metadata": {},
   "outputs": [
    {
     "name": "stdout",
     "output_type": "stream",
     "text": [
      "Predicting on dev set...\n"
     ]
    },
    {
     "data": {
      "application/vnd.jupyter.widget-view+json": {
       "model_id": "31d68baa62f14704837298b436902498",
       "version_major": 2,
       "version_minor": 0
      },
      "text/plain": [
       "Batches:   0%|          | 0/366 [00:00<?, ?it/s]"
      ]
     },
     "metadata": {},
     "output_type": "display_data"
    },
    {
     "name": "stdout",
     "output_type": "stream",
     "text": [
      "\n",
      "✓ Got predictions for 11683 dev samples\n",
      "  Score range: [-10.775, 8.279]\n",
      "  Prob range: [0.000, 1.000]\n"
     ]
    }
   ],
   "source": [
    "# Get predictions on dev set\n",
    "dev_text_pairs = [[pair['artifact_text'], pair['control_text']] for pair in dev_pairs]\n",
    "dev_labels = np.array([pair['label'] for pair in dev_pairs])\n",
    "\n",
    "print(\"Predicting on dev set...\")\n",
    "dev_scores = model.predict(\n",
    "    dev_text_pairs,\n",
    "    batch_size=BATCH_SIZE,\n",
    "    show_progress_bar=True,\n",
    "    convert_to_numpy=True\n",
    ")\n",
    "\n",
    "# Convert logits to probabilities using sigmoid\n",
    "dev_probs = 1 / (1 + np.exp(-dev_scores))\n",
    "\n",
    "print(f\"\\n✓ Got predictions for {len(dev_probs)} dev samples\")\n",
    "print(f\"  Score range: [{dev_scores.min():.3f}, {dev_scores.max():.3f}]\")\n",
    "print(f\"  Prob range: [{dev_probs.min():.3f}, {dev_probs.max():.3f}]\")"
   ]
  },
  {
   "cell_type": "code",
   "execution_count": 17,
   "id": "89kulev9367",
   "metadata": {},
   "outputs": [
    {
     "name": "stdout",
     "output_type": "stream",
     "text": [
      "\n",
      "============================================================\n",
      "DEV SET METRICS (Before Calibration)\n",
      "============================================================\n",
      "  AUC (ROC):            0.9828\n",
      "  MAP (Avg Precision):  0.8604\n",
      "  Log Loss:             0.0637\n"
     ]
    }
   ],
   "source": [
    "# Compute dev metrics\n",
    "auc = roc_auc_score(dev_labels, dev_probs)\n",
    "ap = average_precision_score(dev_labels, dev_probs)\n",
    "logloss = log_loss(dev_labels, dev_probs)\n",
    "\n",
    "print(\"\\n\" + \"=\"*60)\n",
    "print(\"DEV SET METRICS (Before Calibration)\")\n",
    "print(\"=\"*60)\n",
    "print(f\"  AUC (ROC):            {auc:.4f}\")\n",
    "print(f\"  MAP (Avg Precision):  {ap:.4f}\")\n",
    "print(f\"  Log Loss:             {logloss:.4f}\")"
   ]
  },
  {
   "cell_type": "markdown",
   "id": "7shysf0y2ia",
   "metadata": {},
   "source": [
    "## 4. Calibrate probabilities using Isotonic Regression"
   ]
  },
  {
   "cell_type": "code",
   "execution_count": 18,
   "id": "u9i2w5ta3ld",
   "metadata": {},
   "outputs": [
    {
     "name": "stdout",
     "output_type": "stream",
     "text": [
      "✓ Fitted Isotonic Regression calibrator on dev set\n",
      "\n",
      "============================================================\n",
      "DEV SET METRICS (After Calibration)\n",
      "============================================================\n",
      "  Log Loss (calibrated): 0.0554\n",
      "  Improvement:           0.0082\n",
      "\n",
      "✓ Saved calibrator to ../models/calibration/cross_iso.pkl\n"
     ]
    }
   ],
   "source": [
    "# Fit isotonic calibrator on dev set\n",
    "calibrator = IsotonicRegression(out_of_bounds=\"clip\")\n",
    "calibrator.fit(dev_probs, dev_labels)\n",
    "\n",
    "print(\"✓ Fitted Isotonic Regression calibrator on dev set\")\n",
    "\n",
    "# Get calibrated probabilities\n",
    "dev_probs_calibrated = calibrator.predict(dev_probs)\n",
    "\n",
    "# Compute metrics after calibration\n",
    "logloss_calibrated = log_loss(dev_labels, dev_probs_calibrated)\n",
    "\n",
    "print(\"\\n\" + \"=\"*60)\n",
    "print(\"DEV SET METRICS (After Calibration)\")\n",
    "print(\"=\"*60)\n",
    "print(f\"  Log Loss (calibrated): {logloss_calibrated:.4f}\")\n",
    "print(f\"  Improvement:           {logloss - logloss_calibrated:.4f}\")\n",
    "\n",
    "# Save calibrator\n",
    "calibration_dir = Path(\"../models/calibration\")\n",
    "calibration_dir.mkdir(parents=True, exist_ok=True)\n",
    "calibrator_path = calibration_dir / \"cross_iso.pkl\"\n",
    "\n",
    "with open(calibrator_path, \"wb\") as f:\n",
    "    pickle.dump(calibrator, f)\n",
    "\n",
    "print(f\"\\n✓ Saved calibrator to {calibrator_path}\")"
   ]
  },
  {
   "cell_type": "markdown",
   "id": "tfmmkrrl2me",
   "metadata": {},
   "source": [
    "## 5. Calibration diagnostics (reliability curve and ECE)"
   ]
  },
  {
   "cell_type": "code",
   "execution_count": 19,
   "id": "gng0bw54i1d",
   "metadata": {},
   "outputs": [
    {
     "name": "stdout",
     "output_type": "stream",
     "text": [
      "\n",
      "============================================================\n",
      "CALIBRATION DIAGNOSTICS\n",
      "============================================================\n",
      "  ECE (before calibration): 0.0099\n",
      "  ECE (after calibration):  0.0000\n",
      "  ECE improvement:          0.0099\n",
      "\n",
      "✓ Saved reliability curve to ../models/calibration/reliability_curve.png\n"
     ]
    },
    {
     "data": {
      "image/png": "[encoded data removed]",
      "text/plain": [
       "<Figure size 1200x500 with 2 Axes>"
      ]
     },
     "metadata": {},
     "output_type": "display_data"
    }
   ],
   "source": [
    "# Compute calibration curve (before and after)\n",
    "n_bins = 10\n",
    "prob_true_before, prob_pred_before = calibration_curve(dev_labels, dev_probs, n_bins=n_bins, strategy='uniform')\n",
    "prob_true_after, prob_pred_after = calibration_curve(dev_labels, dev_probs_calibrated, n_bins=n_bins, strategy='uniform')\n",
    "\n",
    "# Compute Expected Calibration Error (ECE)\n",
    "def compute_ece(y_true, y_prob, n_bins=10):\n",
    "    \"\"\"Compute Expected Calibration Error\"\"\"\n",
    "    prob_true, prob_pred = calibration_curve(y_true, y_prob, n_bins=n_bins, strategy='uniform')\n",
    "    bin_totals = np.histogram(y_prob, bins=np.linspace(0, 1, n_bins+1))[0]\n",
    "    non_empty = bin_totals > 0\n",
    "    ece = np.sum(bin_totals[non_empty] * np.abs(prob_true - prob_pred)) / len(y_true)\n",
    "    return ece\n",
    "\n",
    "ece_before = compute_ece(dev_labels, dev_probs, n_bins=n_bins)\n",
    "ece_after = compute_ece(dev_labels, dev_probs_calibrated, n_bins=n_bins)\n",
    "\n",
    "print(\"\\n\" + \"=\"*60)\n",
    "print(\"CALIBRATION DIAGNOSTICS\")\n",
    "print(\"=\"*60)\n",
    "print(f\"  ECE (before calibration): {ece_before:.4f}\")\n",
    "print(f\"  ECE (after calibration):  {ece_after:.4f}\")\n",
    "print(f\"  ECE improvement:          {ece_before - ece_after:.4f}\")\n",
    "\n",
    "# Plot reliability curve\n",
    "fig, (ax1, ax2) = plt.subplots(1, 2, figsize=(12, 5))\n",
    "\n",
    "# Before calibration\n",
    "ax1.plot([0, 1], [0, 1], 'k--', label='Perfect calibration')\n",
    "ax1.plot(prob_pred_before, prob_true_before, 'o-', label=f'Before (ECE={ece_before:.3f})')\n",
    "ax1.set_xlabel('Mean Predicted Probability')\n",
    "ax1.set_ylabel('Fraction of Positives')\n",
    "ax1.set_title('Reliability Curve - Before Calibration')\n",
    "ax1.legend()\n",
    "ax1.grid(True, alpha=0.3)\n",
    "\n",
    "# After calibration\n",
    "ax2.plot([0, 1], [0, 1], 'k--', label='Perfect calibration')\n",
    "ax2.plot(prob_pred_after, prob_true_after, 'o-', color='green', label=f'After (ECE={ece_after:.3f})')\n",
    "ax2.set_xlabel('Mean Predicted Probability')\n",
    "ax2.set_ylabel('Fraction of Positives')\n",
    "ax2.set_title('Reliability Curve - After Calibration')\n",
    "ax2.legend()\n",
    "ax2.grid(True, alpha=0.3)\n",
    "\n",
    "plt.tight_layout()\n",
    "plt.savefig(calibration_dir / \"reliability_curve.png\", dpi=100, bbox_inches='tight')\n",
    "print(f\"\\n✓ Saved reliability curve to {calibration_dir / 'reliability_curve.png'}\")\n",
    "plt.show()"
   ]
  },
  {
   "cell_type": "markdown",
   "id": "6e2g0zdmktq",
   "metadata": {},
   "source": [
    "## 6. Acceptance checks"
   ]
  },
  {
   "cell_type": "code",
   "execution_count": 20,
   "id": "m02mk3ee9v",
   "metadata": {},
   "outputs": [
    {
     "name": "stdout",
     "output_type": "stream",
     "text": [
      "============================================================\n",
      "ACCEPTANCE CHECKS\n",
      "============================================================\n",
      "\n",
      "✓ Check 1: Calibration file saved\n",
      "  Path: ../models/calibration/cross_iso.pkl\n",
      "  Exists: True\n",
      "  Size: 0.88 KB\n",
      "  Result: PASS\n",
      "\n",
      "✓ Check 2: Dev AUC/MAP and calibration diagnostics reported\n",
      "  AUC: 0.9828\n",
      "  MAP: 0.8604\n",
      "  ECE (after): 0.0000\n",
      "  Result: PASS\n",
      "\n",
      "✓ Check 3: Cross-encoder model saved\n",
      "  Path: ../models/cross_encoder\n",
      "  Exists: True\n",
      "  Result: PASS\n",
      "\n",
      "============================================================\n",
      "✅ ALL ACCEPTANCE CHECKS PASSED\n",
      "============================================================\n"
     ]
    }
   ],
   "source": [
    "print(\"=\"*60)\n",
    "print(\"ACCEPTANCE CHECKS\")\n",
    "print(\"=\"*60)\n",
    "\n",
    "# Check 1: Calibration file exists\n",
    "check1 = calibrator_path.exists()\n",
    "print(f\"\\n✓ Check 1: Calibration file saved\")\n",
    "print(f\"  Path: {calibrator_path}\")\n",
    "print(f\"  Exists: {check1}\")\n",
    "print(f\"  Size: {calibrator_path.stat().st_size / 1024:.2f} KB\" if check1 else \"  Size: N/A\")\n",
    "print(f\"  Result: {'PASS' if check1 else 'FAIL'}\")\n",
    "\n",
    "# Check 2: Dev metrics reported\n",
    "check2 = auc > 0 and ap > 0 and ece_after >= 0\n",
    "print(f\"\\n✓ Check 2: Dev AUC/MAP and calibration diagnostics reported\")\n",
    "print(f\"  AUC: {auc:.4f}\")\n",
    "print(f\"  MAP: {ap:.4f}\")\n",
    "print(f\"  ECE (after): {ece_after:.4f}\")\n",
    "print(f\"  Result: {'PASS' if check2 else 'FAIL'}\")\n",
    "\n",
    "# Check 3: Model saved\n",
    "model_saved = Path(OUTPUT_PATH).exists()\n",
    "check3 = model_saved\n",
    "print(f\"\\n✓ Check 3: Cross-encoder model saved\")\n",
    "print(f\"  Path: {OUTPUT_PATH}\")\n",
    "print(f\"  Exists: {model_saved}\")\n",
    "print(f\"  Result: {'PASS' if check3 else 'FAIL'}\")\n",
    "\n",
    "# Overall\n",
    "all_checks_passed = check1 and check2 and check3\n",
    "print(\"\\n\" + \"=\"*60)\n",
    "if all_checks_passed:\n",
    "    print(\"✅ ALL ACCEPTANCE CHECKS PASSED\")\n",
    "else:\n",
    "    print(\"❌ SOME ACCEPTANCE CHECKS FAILED\")\n",
    "print(\"=\"*60)"
   ]
  }
 ],
 "metadata": {
  "kernelspec": {
   "display_name": "venv",
   "language": "python",
   "name": "python3"
  },
  "language_info": {
   "codemirror_mode": {
    "name": "ipython",
    "version": 3
   },
   "file_extension": ".py",
   "mimetype": "text/x-python",
   "name": "python",
   "nbconvert_exporter": "python",
   "pygments_lexer": "ipython3",
   "version": "3.12.7"
  }
 },
 "nbformat": 4,
 "nbformat_minor": 5
}
