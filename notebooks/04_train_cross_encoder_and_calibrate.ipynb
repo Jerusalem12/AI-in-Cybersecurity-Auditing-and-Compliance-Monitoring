{
  "cells": [
    {
      "cell_type": "markdown",
      "metadata": {},
      "source": [
        "# 04 \u00b7 Train Cross-Encoder + Calibrate"
      ]
    },
    {
      "cell_type": "markdown",
      "metadata": {},
      "source": [
        "## Purpose\n\nTrain a cross-encoder reranker and calibrate its probabilities on the dev split."
      ]
    },
    {
      "cell_type": "markdown",
      "metadata": {},
      "source": [
        "## Inputs\n\n- `data/processed/pairs/train.jsonl` with labeled pairs.\n- `data/processed/pairs/dev.jsonl` for validation and calibration."
      ]
    },
    {
      "cell_type": "markdown",
      "metadata": {},
      "source": [
        "## Outputs\n\n- `models/cross_encoder/` with fine-tuned cross-encoder weights.\n- `models/calibration/cross_iso.pkl` (or equivalent) storing the calibration model."
      ]
    },
    {
      "cell_type": "markdown",
      "metadata": {},
      "source": [
        "## Steps\n\n1. Load `cross-encoder/ms-marco-MiniLM-L6-v2` (or L-2 variant) as the base checkpoint.\n2. Fine-tune using binary cross-entropy loss with batch size 32, learning rate 1.5e-5, for 2\u20133 epochs.\n3. Track dev metrics such as AUC and MAP to monitor overfitting.\n4. Collect dev logits/probabilities and fit an isotonic or Platt calibrator (dev only).\n5. Save the calibrated model and visualize reliability (ECE or curve) for reporting."
      ]
    },
    {
      "cell_type": "markdown",
      "metadata": {},
      "source": [
        "## Acceptance Checks\n\n- `models/calibration/cross_iso.pkl` (or chosen filename) exists after the run.\n- Dev AUC/MAP along with calibration diagnostics (reliability or ECE) are reported."
      ]
    }
  ],
  "metadata": {
    "kernelspec": {
      "display_name": "Python 3",
      "language": "python",
      "name": "python3"
    },
    "language_info": {
      "name": "python",
      "version": "3.11"
    }
  },
  "nbformat": 4,
  "nbformat_minor": 5
}
