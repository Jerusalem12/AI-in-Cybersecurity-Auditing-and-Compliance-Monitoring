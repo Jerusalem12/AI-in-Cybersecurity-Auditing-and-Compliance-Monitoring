{
 "cells": [
  {
   "cell_type": "markdown",
   "metadata": {},
   "source": [
    "# 03 · Train Bi-Encoder Retriever"
   ]
  },
  {
   "cell_type": "markdown",
   "metadata": {},
   "source": [
    "## Purpose\n",
    "\n",
    "Fine-tune a sentence-transformer bi-encoder for semantic retrieval over controls."
   ]
  },
  {
   "cell_type": "markdown",
   "metadata": {},
   "source": [
    "## Inputs\n",
    "\n",
    "- `data/processed/pairs/train.jsonl` for training instances.\n",
    "- `data/processed/pairs/dev.jsonl` for validation metrics."
   ]
  },
  {
   "cell_type": "markdown",
   "metadata": {},
   "source": [
    "## Outputs\n",
    "\n",
    "- `models/bi_encoder/` directory with fine-tuned weights, tokenizer, and training config.\n",
    "- Optional precomputed control embeddings array (e.g., `controls_embeddings.npy`)."
   ]
  },
  {
   "cell_type": "markdown",
   "metadata": {},
   "source": [
    "## Steps\n",
    "\n",
    "1. Load the base checkpoint `sentence-transformers/multi-qa-mpnet-base-dot-v1`.\n",
    "2. Set up MultipleNegativesRankingLoss with batch size 64 (gradient accumulation if needed).\n",
    "3. Train for 3–5 epochs with learning rate 2e-5 and 10% warmup, logging progress.\n",
    "4. Evaluate on the dev split to compute MRR@10 and select the best checkpoint.\n",
    "5. Persist the tuned model and optionally encode the control catalog for faster inference."
   ]
  },
  {
   "cell_type": "markdown",
   "metadata": {},
   "source": [
    "## Acceptance Checks\n",
    "\n",
    "- `models/bi_encoder/` contains the saved model artifacts.\n",
    "- Validation MRR@10 is computed and reported for the best checkpoint."
   ]
  },
  {
   "cell_type": "code",
   "execution_count": 10,
   "id": "fko4mxagscq",
   "metadata": {},
   "outputs": [
    {
     "name": "stdout",
     "output_type": "stream",
     "text": [
      "Using device: mps\n"
     ]
    }
   ],
   "source": [
    "import pandas as pd\n",
    "import numpy as np\n",
    "import json\n",
    "from pathlib import Path\n",
    "from collections import defaultdict\n",
    "import torch\n",
    "from sentence_transformers import SentenceTransformer, InputExample, losses, evaluation\n",
    "from torch.utils.data import DataLoader\n",
    "\n",
    "# Set random seeds\n",
    "RANDOM_SEED = 42\n",
    "np.random.seed(RANDOM_SEED)\n",
    "torch.manual_seed(RANDOM_SEED)\n",
    "\n",
    "# Check device\n",
    "device = \"cuda\" if torch.cuda.is_available() else \"mps\" if torch.backends.mps.is_available() else \"cpu\"\n",
    "print(f\"Using device: {device}\")"
   ]
  },
  {
   "cell_type": "markdown",
   "id": "cfn9qpghmiw",
   "metadata": {},
   "source": [
    "## 1. Load training pairs"
   ]
  },
  {
   "cell_type": "code",
   "execution_count": 11,
   "id": "vbmewn04tw8",
   "metadata": {},
   "outputs": [
    {
     "name": "stdout",
     "output_type": "stream",
     "text": [
      "✓ Loaded 59373 train pairs\n",
      "✓ Loaded 11683 dev pairs\n",
      "\n",
      "✓ Filtered to 3146 positive training pairs\n",
      "  (MultipleNegativesRankingLoss will use in-batch negatives)\n"
     ]
    }
   ],
   "source": [
    "def load_pairs(jsonl_path):\n",
    "    \"\"\"Load pairs from JSONL file\"\"\"\n",
    "    pairs = []\n",
    "    with open(jsonl_path, \"r\") as f:\n",
    "        for line in f:\n",
    "            pairs.append(json.loads(line))\n",
    "    return pairs\n",
    "\n",
    "# Load train and dev pairs\n",
    "train_pairs = load_pairs(\"../data/processed/pairs/train.jsonl\")\n",
    "dev_pairs = load_pairs(\"../data/processed/pairs/dev.jsonl\")\n",
    "\n",
    "print(f\"✓ Loaded {len(train_pairs)} train pairs\")\n",
    "print(f\"✓ Loaded {len(dev_pairs)} dev pairs\")\n",
    "\n",
    "# Filter to only positive pairs for training (MultipleNegativesRankingLoss uses in-batch negatives)\n",
    "train_positives = [p for p in train_pairs if p[\"label\"] == 1]\n",
    "print(f\"\\n✓ Filtered to {len(train_positives)} positive training pairs\")\n",
    "print(f\"  (MultipleNegativesRankingLoss will use in-batch negatives)\")"
   ]
  },
  {
   "cell_type": "markdown",
   "id": "1q3pr9m4u7n",
   "metadata": {},
   "source": [
    "## 2. Prepare training data for sentence-transformers"
   ]
  },
  {
   "cell_type": "code",
   "execution_count": 12,
   "id": "vbdjktjn20e",
   "metadata": {},
   "outputs": [
    {
     "name": "stdout",
     "output_type": "stream",
     "text": [
      "✓ Created 3146 training examples\n",
      "\n",
      "  Sample example:\n",
      "    Query: User 'svc-api' failed login 11 times in 2 minutes; account was not automatically...\n",
      "    Passage: Audit Review, Analysis, and Reporting. Regularly review and analyze audit logs; ...\n",
      "\n",
      "✓ Converted to HuggingFace Dataset format\n",
      "  Dataset size: 3146\n"
     ]
    }
   ],
   "source": [
    "# Convert positive pairs to InputExample format for MultipleNegativesRankingLoss\n",
    "# Format: InputExample(texts=[query, passage])\n",
    "train_examples = [\n",
    "    InputExample(texts=[pair[\"artifact_text\"], pair[\"control_text\"]])\n",
    "    for pair in train_positives\n",
    "]\n",
    "\n",
    "print(f\"✓ Created {len(train_examples)} training examples\")\n",
    "print(f\"\\n  Sample example:\")\n",
    "print(f\"    Query: {train_examples[0].texts[0][:80]}...\")\n",
    "print(f\"    Passage: {train_examples[0].texts[1][:80]}...\")\n",
    "\n",
    "# Convert to Dataset format for the trainer\n",
    "from datasets import Dataset as HFDataset\n",
    "\n",
    "train_dataset_dict = {\n",
    "    \"sentence1\": [ex.texts[0] for ex in train_examples],\n",
    "    \"sentence2\": [ex.texts[1] for ex in train_examples],\n",
    "}\n",
    "train_dataset = HFDataset.from_dict(train_dataset_dict)\n",
    "print(f\"\\n✓ Converted to HuggingFace Dataset format\")\n",
    "print(f\"  Dataset size: {len(train_dataset)}\")"
   ]
  },
  {
   "cell_type": "markdown",
   "id": "u64qhmdqx9",
   "metadata": {},
   "source": [
    "## 3. Load base model and prepare training"
   ]
  },
  {
   "cell_type": "code",
   "execution_count": 13,
   "id": "m3p2kmcq89",
   "metadata": {},
   "outputs": [
    {
     "name": "stdout",
     "output_type": "stream",
     "text": [
      "Loading base model: sentence-transformers/multi-qa-mpnet-base-dot-v1\n",
      "✓ Model loaded on mps\n",
      "  Max sequence length: 512\n",
      "\n",
      "✓ Created DataLoader with batch size 16\n",
      "  Total batches per epoch: 197\n"
     ]
    }
   ],
   "source": [
    "# Load base model\n",
    "BASE_MODEL = \"sentence-transformers/multi-qa-mpnet-base-dot-v1\"\n",
    "print(f\"Loading base model: {BASE_MODEL}\")\n",
    "\n",
    "model = SentenceTransformer(BASE_MODEL, device=device)\n",
    "print(f\"✓ Model loaded on {device}\")\n",
    "print(f\"  Max sequence length: {model.max_seq_length}\")\n",
    "\n",
    "# Create data loader\n",
    "BATCH_SIZE = 16  # Reduced from 64 due to memory constraints\n",
    "train_dataloader = DataLoader(train_examples, shuffle=True, batch_size=BATCH_SIZE)\n",
    "print(f\"\\n✓ Created DataLoader with batch size {BATCH_SIZE}\")\n",
    "print(f\"  Total batches per epoch: {len(train_dataloader)}\")"
   ]
  },
  {
   "cell_type": "code",
   "execution_count": 14,
   "id": "dmz1zecccqb",
   "metadata": {},
   "outputs": [
    {
     "name": "stdout",
     "output_type": "stream",
     "text": [
      "✓ Loss function: MultipleNegativesRankingLoss\n",
      "  This uses in-batch negatives for contrastive learning\n"
     ]
    }
   ],
   "source": [
    "# Set up loss function\n",
    "train_loss = losses.MultipleNegativesRankingLoss(model)\n",
    "print(f\"✓ Loss function: MultipleNegativesRankingLoss\")\n",
    "print(f\"  This uses in-batch negatives for contrastive learning\")"
   ]
  },
  {
   "cell_type": "markdown",
   "id": "yjsvr3p44j",
   "metadata": {},
   "source": [
    "## 4. Prepare dev set evaluator (MRR@10)"
   ]
  },
  {
   "cell_type": "code",
   "execution_count": 15,
   "id": "avi2a2jpdg",
   "metadata": {},
   "outputs": [
    {
     "name": "stdout",
     "output_type": "stream",
     "text": [
      "✓ Prepared dev evaluation set:\n",
      "  Queries: 365\n",
      "  Corpus: 34\n",
      "  Avg relevant docs per query: 1.59\n",
      "✓ Created InformationRetrievalEvaluator for MRR@10\n"
     ]
    }
   ],
   "source": [
    "# Prepare dev set for evaluation\n",
    "# Group by artifact_id to create queries with relevant controls\n",
    "dev_queries = {}\n",
    "dev_corpus = {}\n",
    "\n",
    "for pair in dev_pairs:\n",
    "    artifact_id = pair[\"artifact_id\"]\n",
    "    control_id = pair[\"control_id\"]\n",
    "    \n",
    "    # Add to corpus\n",
    "    if control_id not in dev_corpus:\n",
    "        dev_corpus[control_id] = pair[\"control_text\"]\n",
    "    \n",
    "    # Add to queries\n",
    "    if artifact_id not in dev_queries:\n",
    "        dev_queries[artifact_id] = {\n",
    "            \"query\": pair[\"artifact_text\"],\n",
    "            \"relevant\": []\n",
    "        }\n",
    "    \n",
    "    # Mark as relevant if positive\n",
    "    if pair[\"label\"] == 1:\n",
    "        dev_queries[artifact_id][\"relevant\"].append(control_id)\n",
    "\n",
    "# Create evaluator format\n",
    "queries = {aid: q[\"query\"] for aid, q in dev_queries.items()}\n",
    "relevant_docs = {aid: set(q[\"relevant\"]) for aid, q in dev_queries.items()}\n",
    "\n",
    "print(f\"✓ Prepared dev evaluation set:\")\n",
    "print(f\"  Queries: {len(queries)}\")\n",
    "print(f\"  Corpus: {len(dev_corpus)}\")\n",
    "print(f\"  Avg relevant docs per query: {np.mean([len(r) for r in relevant_docs.values()]):.2f}\")\n",
    "\n",
    "# Create InformationRetrievalEvaluator\n",
    "ir_evaluator = evaluation.InformationRetrievalEvaluator(\n",
    "    queries=queries,\n",
    "    corpus=dev_corpus,\n",
    "    relevant_docs=relevant_docs,\n",
    "    name=\"dev_mrr\",\n",
    "    show_progress_bar=True,\n",
    "    mrr_at_k=[10]\n",
    ")\n",
    "print(f\"✓ Created InformationRetrievalEvaluator for MRR@10\")"
   ]
  },
  {
   "cell_type": "markdown",
   "id": "jp5y67dagm",
   "metadata": {},
   "source": [
    "## 5. Train the model"
   ]
  },
  {
   "cell_type": "code",
   "execution_count": 16,
   "id": "ur1wymelm28",
   "metadata": {},
   "outputs": [
    {
     "name": "stdout",
     "output_type": "stream",
     "text": [
      "Training configuration:\n",
      "  Epochs: 3\n",
      "  Batch size: 16\n",
      "  Learning rate: 2e-5\n",
      "  Warmup steps: 59 (10% of total)\n",
      "  Output path: ../models/bi_encoder\n",
      "\n",
      "============================================================\n",
      "Starting training...\n",
      "============================================================\n",
      "\n"
     ]
    },
    {
     "data": {
      "application/vnd.jupyter.widget-view+json": {
       "model_id": "54b6a15c17924e85ac04ba9589913ca4",
       "version_major": 2,
       "version_minor": 0
      },
      "text/plain": [
       "Computing widget examples:   0%|          | 0/1 [00:00<?, ?example/s]"
      ]
     },
     "metadata": {},
     "output_type": "display_data"
    },
    {
     "name": "stderr",
     "output_type": "stream",
     "text": [
      "/Users/mikiyas/development/hodwa/crs/venv/lib/python3.12/site-packages/torch/utils/data/dataloader.py:692: UserWarning: 'pin_memory' argument is set as true but not supported on MPS now, device pinned memory won't be used.\n",
      "  warnings.warn(warn_msg)\n"
     ]
    },
    {
     "data": {
      "text/html": [
       "\n",
       "    <div>\n",
       "      \n",
       "      <progress value='591' max='591' style='width:300px; height:20px; vertical-align: middle;'></progress>\n",
       "      [591/591 05:35, Epoch 3/3]\n",
       "    </div>\n",
       "    <table border=\"1\" class=\"dataframe\">\n",
       "  <thead>\n",
       " <tr style=\"text-align: left;\">\n",
       "      <th>Epoch</th>\n",
       "      <th>Training Loss</th>\n",
       "      <th>Validation Loss</th>\n",
       "      <th>Dev Mrr Dot Accuracy@1</th>\n",
       "      <th>Dev Mrr Dot Accuracy@3</th>\n",
       "      <th>Dev Mrr Dot Accuracy@5</th>\n",
       "      <th>Dev Mrr Dot Accuracy@10</th>\n",
       "      <th>Dev Mrr Dot Precision@1</th>\n",
       "      <th>Dev Mrr Dot Precision@3</th>\n",
       "      <th>Dev Mrr Dot Precision@5</th>\n",
       "      <th>Dev Mrr Dot Precision@10</th>\n",
       "      <th>Dev Mrr Dot Recall@1</th>\n",
       "      <th>Dev Mrr Dot Recall@3</th>\n",
       "      <th>Dev Mrr Dot Recall@5</th>\n",
       "      <th>Dev Mrr Dot Recall@10</th>\n",
       "      <th>Dev Mrr Dot Ndcg@10</th>\n",
       "      <th>Dev Mrr Dot Mrr@10</th>\n",
       "      <th>Dev Mrr Dot Map@100</th>\n",
       "    </tr>\n",
       "  </thead>\n",
       "  <tbody>\n",
       "    <tr>\n",
       "      <td>1</td>\n",
       "      <td>0.979300</td>\n",
       "      <td>No log</td>\n",
       "      <td>0.838356</td>\n",
       "      <td>0.964384</td>\n",
       "      <td>0.983562</td>\n",
       "      <td>0.989041</td>\n",
       "      <td>0.838356</td>\n",
       "      <td>0.481279</td>\n",
       "      <td>0.302466</td>\n",
       "      <td>0.156438</td>\n",
       "      <td>0.584018</td>\n",
       "      <td>0.915068</td>\n",
       "      <td>0.954795</td>\n",
       "      <td>0.981279</td>\n",
       "      <td>0.908415</td>\n",
       "      <td>0.900441</td>\n",
       "      <td>0.874341</td>\n",
       "    </tr>\n",
       "    <tr>\n",
       "      <td>2</td>\n",
       "      <td>0.971100</td>\n",
       "      <td>No log</td>\n",
       "      <td>0.852055</td>\n",
       "      <td>0.978082</td>\n",
       "      <td>0.983562</td>\n",
       "      <td>0.991781</td>\n",
       "      <td>0.852055</td>\n",
       "      <td>0.494977</td>\n",
       "      <td>0.307945</td>\n",
       "      <td>0.157260</td>\n",
       "      <td>0.594977</td>\n",
       "      <td>0.940639</td>\n",
       "      <td>0.968493</td>\n",
       "      <td>0.986301</td>\n",
       "      <td>0.924503</td>\n",
       "      <td>0.913751</td>\n",
       "      <td>0.896460</td>\n",
       "    </tr>\n",
       "    <tr>\n",
       "      <td>3</td>\n",
       "      <td>0.961300</td>\n",
       "      <td>No log</td>\n",
       "      <td>0.860274</td>\n",
       "      <td>0.978082</td>\n",
       "      <td>0.986301</td>\n",
       "      <td>0.991781</td>\n",
       "      <td>0.860274</td>\n",
       "      <td>0.498630</td>\n",
       "      <td>0.306301</td>\n",
       "      <td>0.157260</td>\n",
       "      <td>0.599087</td>\n",
       "      <td>0.946119</td>\n",
       "      <td>0.964384</td>\n",
       "      <td>0.986301</td>\n",
       "      <td>0.926926</td>\n",
       "      <td>0.918995</td>\n",
       "      <td>0.899015</td>\n",
       "    </tr>\n",
       "  </tbody>\n",
       "</table><p>"
      ],
      "text/plain": [
       "<IPython.core.display.HTML object>"
      ]
     },
     "metadata": {},
     "output_type": "display_data"
    },
    {
     "data": {
      "application/vnd.jupyter.widget-view+json": {
       "model_id": "130b360d84ab48d8be68621cc45653db",
       "version_major": 2,
       "version_minor": 0
      },
      "text/plain": [
       "Batches:   0%|          | 0/12 [00:00<?, ?it/s]"
      ]
     },
     "metadata": {},
     "output_type": "display_data"
    },
    {
     "name": "stderr",
     "output_type": "stream",
     "text": [
      "Corpus Chunks:   0%|          | 0/1 [00:00<?, ?it/s]"
     ]
    },
    {
     "data": {
      "application/vnd.jupyter.widget-view+json": {
       "model_id": "9b5ffce96f734b1bb3f12fda385f7453",
       "version_major": 2,
       "version_minor": 0
      },
      "text/plain": [
       "Batches:   0%|          | 0/2 [00:00<?, ?it/s]"
      ]
     },
     "metadata": {},
     "output_type": "display_data"
    },
    {
     "name": "stderr",
     "output_type": "stream",
     "text": [
      "Corpus Chunks: 100%|██████████| 1/1 [00:00<00:00,  1.45it/s]\n",
      "/Users/mikiyas/development/hodwa/crs/venv/lib/python3.12/site-packages/torch/utils/data/dataloader.py:692: UserWarning: 'pin_memory' argument is set as true but not supported on MPS now, device pinned memory won't be used.\n",
      "  warnings.warn(warn_msg)\n"
     ]
    },
    {
     "data": {
      "application/vnd.jupyter.widget-view+json": {
       "model_id": "8fe541c34a7c44ba82052f4a89d233d3",
       "version_major": 2,
       "version_minor": 0
      },
      "text/plain": [
       "Batches:   0%|          | 0/12 [00:00<?, ?it/s]"
      ]
     },
     "metadata": {},
     "output_type": "display_data"
    },
    {
     "name": "stderr",
     "output_type": "stream",
     "text": [
      "Corpus Chunks:   0%|          | 0/1 [00:00<?, ?it/s]"
     ]
    },
    {
     "data": {
      "application/vnd.jupyter.widget-view+json": {
       "model_id": "0315454e498149afadee206a7090cd5c",
       "version_major": 2,
       "version_minor": 0
      },
      "text/plain": [
       "Batches:   0%|          | 0/2 [00:00<?, ?it/s]"
      ]
     },
     "metadata": {},
     "output_type": "display_data"
    },
    {
     "name": "stderr",
     "output_type": "stream",
     "text": [
      "Corpus Chunks: 100%|██████████| 1/1 [00:00<00:00,  5.04it/s]\n",
      "/Users/mikiyas/development/hodwa/crs/venv/lib/python3.12/site-packages/torch/utils/data/dataloader.py:692: UserWarning: 'pin_memory' argument is set as true but not supported on MPS now, device pinned memory won't be used.\n",
      "  warnings.warn(warn_msg)\n"
     ]
    },
    {
     "data": {
      "application/vnd.jupyter.widget-view+json": {
       "model_id": "70f8ba10f36e43c6a59fe7a7ae6402fd",
       "version_major": 2,
       "version_minor": 0
      },
      "text/plain": [
       "Batches:   0%|          | 0/12 [00:00<?, ?it/s]"
      ]
     },
     "metadata": {},
     "output_type": "display_data"
    },
    {
     "name": "stderr",
     "output_type": "stream",
     "text": [
      "Corpus Chunks:   0%|          | 0/1 [00:00<?, ?it/s]"
     ]
    },
    {
     "data": {
      "application/vnd.jupyter.widget-view+json": {
       "model_id": "83788627486848f9b019ba4e9a5ccb34",
       "version_major": 2,
       "version_minor": 0
      },
      "text/plain": [
       "Batches:   0%|          | 0/2 [00:00<?, ?it/s]"
      ]
     },
     "metadata": {},
     "output_type": "display_data"
    },
    {
     "name": "stderr",
     "output_type": "stream",
     "text": [
      "Corpus Chunks: 100%|██████████| 1/1 [00:00<00:00,  4.88it/s]\n"
     ]
    },
    {
     "name": "stdout",
     "output_type": "stream",
     "text": [
      "\n",
      "============================================================\n",
      "✓ Training complete!\n",
      "============================================================\n"
     ]
    }
   ],
   "source": [
    "# Training configuration\n",
    "NUM_EPOCHS = 3\n",
    "WARMUP_STEPS = int(len(train_dataloader) * NUM_EPOCHS * 0.1)\n",
    "OUTPUT_PATH = \"../models/bi_encoder\"\n",
    "\n",
    "print(f\"Training configuration:\")\n",
    "print(f\"  Epochs: {NUM_EPOCHS}\")\n",
    "print(f\"  Batch size: {BATCH_SIZE}\")\n",
    "print(f\"  Learning rate: 2e-5\")\n",
    "print(f\"  Warmup steps: {WARMUP_STEPS} (10% of total)\")\n",
    "print(f\"  Output path: {OUTPUT_PATH}\")\n",
    "\n",
    "# Create output directory\n",
    "Path(OUTPUT_PATH).mkdir(parents=True, exist_ok=True)\n",
    "\n",
    "print(f\"\\n{'='*60}\")\n",
    "print(f\"Starting training...\")\n",
    "print(f\"{'='*60}\\n\")\n",
    "\n",
    "# Use the SentenceTransformerTrainer\n",
    "from sentence_transformers import SentenceTransformerTrainer, SentenceTransformerTrainingArguments\n",
    "\n",
    "# Training arguments\n",
    "training_args = SentenceTransformerTrainingArguments(\n",
    "    output_dir=OUTPUT_PATH,\n",
    "    num_train_epochs=NUM_EPOCHS,\n",
    "    per_device_train_batch_size=BATCH_SIZE,\n",
    "    warmup_steps=WARMUP_STEPS,\n",
    "    learning_rate=2e-5,\n",
    "    logging_steps=10,\n",
    "    save_strategy=\"epoch\",\n",
    "    save_total_limit=1,\n",
    "    load_best_model_at_end=True,\n",
    "    metric_for_best_model=\"eval_dev_mrr_dot_mrr@10\",  # Use MRR@10 as the metric\n",
    "    greater_is_better=True,  # Higher MRR is better\n",
    "    eval_strategy=\"epoch\",\n",
    "    report_to=\"none\",\n",
    ")\n",
    "\n",
    "# Create trainer\n",
    "trainer = SentenceTransformerTrainer(\n",
    "    model=model,\n",
    "    args=training_args,\n",
    "    train_dataset=train_dataset,  # Use the HF Dataset\n",
    "    loss=train_loss,\n",
    "    evaluator=ir_evaluator,\n",
    ")\n",
    "\n",
    "# Train\n",
    "trainer.train()\n",
    "\n",
    "print(f\"\\n{'='*60}\")\n",
    "print(f\"✓ Training complete!\")\n",
    "print(f\"{'='*60}\")"
   ]
  },
  {
   "cell_type": "markdown",
   "id": "4h8l8xkdwd6",
   "metadata": {},
   "source": [
    "## 6. Pre-encode control embeddings for inference"
   ]
  },
  {
   "cell_type": "code",
   "execution_count": 17,
   "id": "z87oekapnk",
   "metadata": {},
   "outputs": [
    {
     "name": "stdout",
     "output_type": "stream",
     "text": [
      "✓ Loaded best model from ../models/bi_encoder\n",
      "\n",
      "✓ Encoding 34 controls...\n"
     ]
    },
    {
     "data": {
      "application/vnd.jupyter.widget-view+json": {
       "model_id": "0a2654ff401d4c2d9e0ba6a54610fb92",
       "version_major": 2,
       "version_minor": 0
      },
      "text/plain": [
       "Batches:   0%|          | 0/2 [00:00<?, ?it/s]"
      ]
     },
     "metadata": {},
     "output_type": "display_data"
    },
    {
     "name": "stdout",
     "output_type": "stream",
     "text": [
      "✓ Saved control embeddings to ../models/bi_encoder/control_embeddings.npy\n",
      "  Shape: (34, 768)\n",
      "  Size: 102.1 KB\n"
     ]
    }
   ],
   "source": [
    "# Load the best model\n",
    "best_model = SentenceTransformer(OUTPUT_PATH, device=device)\n",
    "print(f\"✓ Loaded best model from {OUTPUT_PATH}\")\n",
    "\n",
    "# Load enhanced controls and encode them\n",
    "controls = pd.read_csv(\"../data/processed/controls_enhanced.csv\", dtype=str)\n",
    "# index_text is already created in controls_enhanced.csv\n",
    "\n",
    "print(f\"\\n✓ Encoding {len(controls)} controls...\")\n",
    "control_embeddings = best_model.encode(\n",
    "    controls[\"index_text\"].tolist(),\n",
    "    convert_to_numpy=True,\n",
    "    show_progress_bar=True\n",
    ")\n",
    "\n",
    "# Save embeddings\n",
    "embeddings_path = Path(OUTPUT_PATH) / \"control_embeddings.npy\"\n",
    "np.save(embeddings_path, control_embeddings)\n",
    "\n",
    "print(f\"✓ Saved control embeddings to {embeddings_path}\")\n",
    "print(f\"  Shape: {control_embeddings.shape}\")\n",
    "print(f\"  Size: {embeddings_path.stat().st_size / 1024:.1f} KB\")"
   ]
  },
  {
   "cell_type": "markdown",
   "id": "l6qbaz0fbz",
   "metadata": {},
   "source": [
    "## 7. Final evaluation and acceptance checks"
   ]
  },
  {
   "cell_type": "code",
   "execution_count": 18,
   "id": "cqbr7sk41n",
   "metadata": {},
   "outputs": [
    {
     "name": "stdout",
     "output_type": "stream",
     "text": [
      "============================================================\n",
      "FINAL EVALUATION\n",
      "============================================================\n"
     ]
    },
    {
     "data": {
      "application/vnd.jupyter.widget-view+json": {
       "model_id": "9bcd43261ff145fcb7bc14387ecfbd05",
       "version_major": 2,
       "version_minor": 0
      },
      "text/plain": [
       "Batches:   0%|          | 0/12 [00:00<?, ?it/s]"
      ]
     },
     "metadata": {},
     "output_type": "display_data"
    },
    {
     "name": "stderr",
     "output_type": "stream",
     "text": [
      "Corpus Chunks:   0%|          | 0/1 [00:00<?, ?it/s]"
     ]
    },
    {
     "data": {
      "application/vnd.jupyter.widget-view+json": {
       "model_id": "21c867d7d8be4e0ea203e9a835258893",
       "version_major": 2,
       "version_minor": 0
      },
      "text/plain": [
       "Batches:   0%|          | 0/2 [00:00<?, ?it/s]"
      ]
     },
     "metadata": {},
     "output_type": "display_data"
    },
    {
     "name": "stderr",
     "output_type": "stream",
     "text": [
      "Corpus Chunks: 100%|██████████| 1/1 [00:00<00:00,  5.50it/s]"
     ]
    },
    {
     "name": "stdout",
     "output_type": "stream",
     "text": [
      "\n",
      "✓ Final dev MRR@10: 0.8017\n",
      "\n",
      "All metrics:\n",
      "  dev_mrr_dot_accuracy@1: 0.7123\n",
      "  dev_mrr_dot_accuracy@3: 0.8712\n",
      "  dev_mrr_dot_accuracy@5: 0.9178\n",
      "  dev_mrr_dot_accuracy@10: 0.9562\n",
      "  dev_mrr_dot_precision@1: 0.7123\n",
      "  dev_mrr_dot_precision@3: 0.4082\n",
      "  dev_mrr_dot_precision@5: 0.2712\n",
      "  dev_mrr_dot_precision@10: 0.1466\n",
      "  dev_mrr_dot_recall@1: 0.4881\n",
      "  dev_mrr_dot_recall@3: 0.7790\n",
      "  dev_mrr_dot_recall@5: 0.8571\n",
      "  dev_mrr_dot_recall@10: 0.9201\n",
      "  dev_mrr_dot_ndcg@10: 0.8021\n",
      "  dev_mrr_dot_mrr@10: 0.8017\n",
      "  dev_mrr_dot_map@100: 0.7465\n",
      "\n",
      "============================================================\n",
      "ACCEPTANCE CHECKS\n",
      "============================================================\n",
      "\n",
      "✓ Check 1: Model saved at ../models/bi_encoder\n",
      "  Result: PASS\n",
      "  Files: ['model.safetensors', 'checkpoint-591', '1_Pooling', 'tokenizer_config.json', 'special_tokens_map.json']...\n",
      "\n",
      "✓ Check 2: Dev MRR@10 computed and reported\n",
      "  MRR@10: 0.8017\n",
      "  Result: PASS\n",
      "\n",
      "============================================================\n",
      "✅ ALL ACCEPTANCE CHECKS PASSED\n",
      "============================================================\n"
     ]
    },
    {
     "name": "stderr",
     "output_type": "stream",
     "text": [
      "\n"
     ]
    }
   ],
   "source": [
    "# Run final evaluation\n",
    "print(\"=\"*60)\n",
    "print(\"FINAL EVALUATION\")\n",
    "print(\"=\"*60)\n",
    "\n",
    "final_metrics = ir_evaluator(best_model, output_path=OUTPUT_PATH)\n",
    "\n",
    "# Extract MRR@10\n",
    "mrr_at_10 = final_metrics.get(\"dev_mrr_dot_mrr@10\", 0.0)\n",
    "print(f\"\\n✓ Final dev MRR@10: {mrr_at_10:.4f}\")\n",
    "print(f\"\\nAll metrics:\")\n",
    "for key, value in final_metrics.items():\n",
    "    if isinstance(value, float):\n",
    "        print(f\"  {key}: {value:.4f}\")\n",
    "\n",
    "# Acceptance checks\n",
    "print(\"\\n\" + \"=\"*60)\n",
    "print(\"ACCEPTANCE CHECKS\")\n",
    "print(\"=\"*60)\n",
    "\n",
    "# Check 1: Model saved\n",
    "model_path = Path(OUTPUT_PATH)\n",
    "check1 = model_path.exists() and (model_path / \"config.json\").exists()\n",
    "print(f\"\\n✓ Check 1: Model saved at {OUTPUT_PATH}\")\n",
    "print(f\"  Result: {'PASS' if check1 else 'FAIL'}\")\n",
    "if check1:\n",
    "    files = list(model_path.glob(\"*\"))\n",
    "    print(f\"  Files: {[f.name for f in files[:5]]}...\")\n",
    "\n",
    "# Check 2: MRR@10 computed\n",
    "check2 = mrr_at_10 is not None and mrr_at_10 > 0\n",
    "print(f\"\\n✓ Check 2: Dev MRR@10 computed and reported\")\n",
    "print(f\"  MRR@10: {mrr_at_10:.4f}\")\n",
    "print(f\"  Result: {'PASS' if check2 else 'FAIL'}\")\n",
    "\n",
    "# Overall\n",
    "all_checks_passed = check1 and check2\n",
    "print(\"\\n\" + \"=\"*60)\n",
    "if all_checks_passed:\n",
    "    print(\"✅ ALL ACCEPTANCE CHECKS PASSED\")\n",
    "else:\n",
    "    print(\"❌ SOME ACCEPTANCE CHECKS FAILED\")\n",
    "print(\"=\"*60)"
   ]
  }
 ],
 "metadata": {
  "kernelspec": {
   "display_name": "venv",
   "language": "python",
   "name": "python3"
  },
  "language_info": {
   "codemirror_mode": {
    "name": "ipython",
    "version": 3
   },
   "file_extension": ".py",
   "mimetype": "text/x-python",
   "name": "python",
   "nbconvert_exporter": "python",
   "pygments_lexer": "ipython3",
   "version": "3.12.7"
  }
 },
 "nbformat": 4,
 "nbformat_minor": 5
}
