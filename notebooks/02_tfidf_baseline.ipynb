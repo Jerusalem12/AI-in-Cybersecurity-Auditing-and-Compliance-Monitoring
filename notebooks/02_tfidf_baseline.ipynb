{
 "cells": [
  {
   "cell_type": "markdown",
   "id": "618e014d",
   "metadata": {},
   "source": [
    "# 02 — TF‑IDF Baseline\n",
    "Build index from controls, score artifacts (test split), and compute core metrics."
   ]
  },
  {
   "cell_type": "code",
   "execution_count": null,
   "id": "a688b962",
   "metadata": {},
   "outputs": [],
   "source": [
    "import yaml\n",
    "from pathlib import Path\n",
    "import pandas as pd\n",
    "import matplotlib.pyplot as plt\n",
    "\n",
    "from crs.dataio import load_artifacts, load_controls, parse_gold\n",
    "from crs.controls import build_index_text\n",
    "from crs.recommenders.tfidf import TFIDFRecommender\n",
    "from crs.metrics import top1_accuracy, precision_at_k, recall_at_k, jaccard\n",
    "\n",
    "CFG_PATH = Path('../configs/defaults.yaml')\n",
    "cfg = yaml.safe_load(CFG_PATH.read_text())\n",
    "\n",
    "# Resolve paths relative to project root (one level up from notebooks/)\n",
    "project_root = Path('..').resolve()\n",
    "controls = load_controls(project_root / cfg['paths']['controls'])\n",
    "artifacts = load_artifacts(project_root / cfg['paths']['artifacts'])\n",
    "\n",
    "index_texts = build_index_text(controls)\n",
    "rec = TFIDFRecommender(\n",
    "    ngram_range=tuple(cfg.get('tfidf', {}).get('ngram_range', [1,2])),\n",
    "    min_df=cfg.get('tfidf', {}).get('min_df', 1)\n",
    ").fit(index_texts, controls['control_id'].tolist())\n",
    "\n",
    "k = cfg.get('k', 3)\n",
    "test = artifacts[artifacts['split']=='test'].copy()\n",
    "\n",
    "rows=[]\n",
    "for _, r in test.iterrows():\n",
    "    ids, scores = rec.predict_topk(r['text'], k=k)\n",
    "    rows.append({\n",
    "        'artifact_id': int(r['artifact_id']),\n",
    "        'text': r['text'],\n",
    "        'gold_controls': r['gold_controls'],\n",
    "        'predicted_topk': ';'.join(ids),\n",
    "        'scores_topk': ';'.join(f\"{s:.4f}\" for s in scores),\n",
    "    })\n",
    "preds = pd.DataFrame(rows)\n",
    "display(preds.head(10))\n",
    "\n",
    "print(\"Top1 accuracy:\", round(top1_accuracy(preds), 3))\n",
    "print(\"P@{}:\".format(k), round(precision_at_k(preds, k=k), 3))\n",
    "print(\"R@{}:\".format(k), round(recall_at_k(preds, k=k), 3))\n",
    "print(\"Jaccard@{}:\".format(k), round(jaccard(preds, k=k), 3))\n",
    "\n",
    "OUT = Path('../outputs/predictions/test.csv')\n",
    "OUT.parent.mkdir(parents=True, exist_ok=True)\n",
    "preds.to_csv(OUT, index=False)\n",
    "print('Saved:', OUT)"
   ]
  }
 ],
 "metadata": {
  "kernelspec": {
   "display_name": ".venv",
   "language": "python",
   "name": "python3"
  },
  "language_info": {
   "name": "python",
   "version": "3.12.7"
  }
 },
 "nbformat": 4,
 "nbformat_minor": 5
}
