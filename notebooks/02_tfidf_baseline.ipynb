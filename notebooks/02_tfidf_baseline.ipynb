{
 "cells": [
  {
   "cell_type": "markdown",
   "id": "618e014d",
   "metadata": {},
   "source": [
    "# 02 — TF‑IDF Baseline\n",
    "Build index from controls, score artifacts (test split), and compute core metrics."
   ]
  },
  {
   "cell_type": "code",
   "execution_count": null,
   "id": "a688b962",
   "metadata": {},
   "outputs": [],
   "source": "import yaml\nfrom pathlib import Path\nimport pandas as pd\nimport matplotlib.pyplot as plt\n\nfrom crs.dataio import load_artifacts, load_controls, parse_gold\nfrom crs.controls import build_index_text\nfrom crs.recommenders.tfidf import TFIDFRecommender\nfrom crs.metrics import top1_accuracy, precision_at_k, recall_at_k, jaccard\n\nCFG_PATH = Path('../configs/defaults.yaml')\ncfg = yaml.safe_load(CFG_PATH.read_text())\n\n# Resolve paths relative to project root (one level up from notebooks/)\nproject_root = Path('..').resolve()\ncontrols = load_controls(project_root / cfg['paths']['controls'])\nartifacts = load_artifacts(project_root / cfg['paths']['artifacts'])\n\nindex_texts = build_index_text(controls)\nrec = TFIDFRecommender(\n    ngram_range=tuple(cfg.get('tfidf', {}).get('ngram_range', [1,2])),\n    min_df=cfg.get('tfidf', {}).get('min_df', 1)\n).fit(index_texts, controls['control_id'].tolist())\n\nk = cfg.get('k', 3)\ntest = artifacts[artifacts['split']=='test'].copy()\n\nrows=[]\nfor _, r in test.iterrows():\n    ids, scores = rec.predict_topk(r['text'], k=k)\n    rows.append({\n        'artifact_id': int(r['artifact_id']),\n        'text': r['text'],\n        'gold_controls': r['gold_controls'],\n        'predicted_topk': ';'.join(ids),\n        'scores_topk': ';'.join(f\"{s:.4f}\" for s in scores),\n    })\npreds = pd.DataFrame(rows)\ndisplay(preds.head(10))\n\nprint(\"Top1 accuracy:\", round(top1_accuracy(preds), 3))\nprint(\"P@{}:\".format(k), round(precision_at_k(preds, k=k), 3))\nprint(\"R@{}:\".format(k), round(recall_at_k(preds, k=k), 3))\nprint(\"Jaccard@{}:\".format(k), round(jaccard(preds, k=k), 3))\n\nOUT = Path('../outputs/predictions/test.csv')\nOUT.parent.mkdir(parents=True, exist_ok=True)\npreds.to_csv(OUT, index=False)\nprint('Saved:', OUT)"
  }
 ],
 "metadata": {
  "kernelspec": {
   "display_name": "Python 3",
   "language": "python",
   "name": "python3"
  }
 },
 "nbformat": 4,
 "nbformat_minor": 5
}