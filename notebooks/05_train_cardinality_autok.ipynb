{
  "cells": [
    {
      "cell_type": "markdown",
      "metadata": {},
      "source": [
        "# 05 \u00b7 Train Auto-K Cardinality Model"
      ]
    },
    {
      "cell_type": "markdown",
      "metadata": {},
      "source": [
        "## Purpose\n\nLearn to predict how many controls (1\u20133) to emit per artifact using calibrated scores."
      ]
    },
    {
      "cell_type": "markdown",
      "metadata": {},
      "source": [
        "## Inputs\n\n- `data/processed/pairs/train.jsonl` and `.../dev.jsonl` for score features.\n- Calibrated cross-encoder probabilities produced in Notebook 04."
      ]
    },
    {
      "cell_type": "markdown",
      "metadata": {},
      "source": [
        "## Outputs\n\n- `models/cardinality/model.pkl` containing the trained classifier.\n- `models/cardinality/feature_spec.json` documenting feature engineering."
      ]
    },
    {
      "cell_type": "markdown",
      "metadata": {},
      "source": [
        "## Steps\n\n1. Generate per-artifact features: top calibrated probabilities s1\u2013s4 (zero-padded), deltas (s1-s2, s2-s3), score entropy, and evidence_type one-hot vectors.\n2. Label each artifact with `min(3, |gold_controls|)` using the processed split file.\n3. Train a multi-class classifier (e.g., logistic regression or gradient boosting) on train artifacts.\n4. Evaluate on dev artifacts, capture accuracy, confusion matrix, and calibration sanity checks.\n5. Persist the fitted model and feature spec JSON for reproducible inference."
      ]
    },
    {
      "cell_type": "markdown",
      "metadata": {},
      "source": [
        "## Acceptance Checks\n\n- Reported dev accuracy and confusion matrix summarize performance.\n- `models/cardinality/model.pkl` and `feature_spec.json` are written."
      ]
    }
  ],
  "metadata": {
    "kernelspec": {
      "display_name": "Python 3",
      "language": "python",
      "name": "python3"
    },
    "language_info": {
      "name": "python",
      "version": "3.11"
    }
  },
  "nbformat": 4,
  "nbformat_minor": 5
}
