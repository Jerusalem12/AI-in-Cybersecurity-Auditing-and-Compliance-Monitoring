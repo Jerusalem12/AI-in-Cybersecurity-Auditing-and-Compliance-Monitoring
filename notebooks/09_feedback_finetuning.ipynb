{
 "cells": [
  {
   "cell_type": "markdown",
   "metadata": {},
   "source": [
    "# 09 · Fine-tune Cross-Encoder from Feedback"
   ]
  },
  {
   "cell_type": "markdown",
   "metadata": {},
   "source": [
    "## Purpose\n",
    "\n",
    "Fine-tune the cross-encoder model using feedback data to improve accuracy on challenging cases, particularly ticket artifacts."
   ]
  },
  {
   "cell_type": "markdown",
   "metadata": {},
   "source": [
    "## Inputs\n",
    "\n",
    "- `data/processed/feedback.csv` with predictions and accuracy metrics\n",
    "- `data/processed/controls_enhanced.csv` with control catalog\n",
    "- `data/processed/pairs/dev.jsonl` for validation\n",
    "- Existing models: `models/cross_encoder/`, `models/calibration/`"
   ]
  },
  {
   "cell_type": "markdown",
   "metadata": {},
   "source": [
    "## Outputs\n",
    "\n",
    "- `data/processed/pairs/feedback_train.jsonl` with stratified training pairs\n",
    "- `models/cross_encoder_v2/` with fine-tuned cross-encoder weights\n",
    "- `models/calibration_v2/cross_iso.pkl` with recalibrated probabilities\n",
    "- Comparison report showing v1 vs v2 performance"
   ]
  },
  {
   "cell_type": "markdown",
   "metadata": {},
   "source": [
    "## Strategy\n",
    "\n",
    "**Current performance:**\n",
    "- Overall feedback accuracy: 87.2%\n",
    "- Ticket accuracy: 62% (PROBLEM)\n",
    "- Log accuracy: 95%\n",
    "- Config accuracy: 95%\n",
    "\n",
    "**Approach:**\n",
    "1. Build stratified training pairs emphasizing errors (3x weight on failures)\n",
    "2. Fine-tune existing cross-encoder (NOT retrain from scratch)\n",
    "3. Conservative learning (1e-5 LR, 1-2 epochs) to prevent catastrophic forgetting\n",
    "4. Validate on dev set (not feedback) to prevent overfitting\n",
    "5. Recalibrate on dev set\n",
    "6. Compare v1 vs v2 performance\n",
    "\n",
    "**Target improvement:**\n",
    "- Ticket accuracy: 62% → 75-85%\n",
    "- Overall accuracy: 87% → 90%+"
   ]
  },
  {
   "cell_type": "markdown",
   "metadata": {},
   "source": [
    "## Acceptance Checks\n",
    "\n",
    "- `models/cross_encoder_v2/` and `models/calibration_v2/cross_iso.pkl` exist\n",
    "- Ticket accuracy improves from 62% to at least 75%\n",
    "- Overall feedback accuracy improves from 87% to at least 90%\n",
    "- Dev/test accuracy does NOT degrade"
   ]
  },
  {
   "cell_type": "code",
   "execution_count": 1,
   "metadata": {},
   "outputs": [
    {
     "name": "stdout",
     "output_type": "stream",
     "text": [
      "Using device: mps\n"
     ]
    }
   ],
   "source": [
    "import pandas as pd\n",
    "import numpy as np\n",
    "import json\n",
    "import pickle\n",
    "from pathlib import Path\n",
    "import torch\n",
    "from sentence_transformers import CrossEncoder, InputExample\n",
    "from torch.utils.data import DataLoader\n",
    "from sklearn.calibration import IsotonicRegression\n",
    "from sklearn.metrics import roc_auc_score, average_precision_score, log_loss\n",
    "import matplotlib.pyplot as plt\n",
    "from collections import defaultdict\n",
    "\n",
    "# Set random seeds\n",
    "RANDOM_SEED = 42\n",
    "np.random.seed(RANDOM_SEED)\n",
    "torch.manual_seed(RANDOM_SEED)\n",
    "\n",
    "# Check device\n",
    "device = \"cuda\" if torch.cuda.is_available() else \"mps\" if torch.backends.mps.is_available() else \"cpu\"\n",
    "print(f\"Using device: {device}\")"
   ]
  },
  {
   "cell_type": "markdown",
   "metadata": {},
   "source": [
    "## 1. Load feedback data and controls"
   ]
  },
  {
   "cell_type": "code",
   "execution_count": 2,
   "metadata": {},
   "outputs": [
    {
     "name": "stdout",
     "output_type": "stream",
     "text": [
      "✓ Loaded 350 feedback artifacts\n",
      "\n",
      "  Columns: ['artifact_id', 'text', 'evidence_type', 'timestamp', 'gold_controls', 'gold_rationale', 'auditor_id', 'predicted_controls', 'accept_reject', 'accuracy_value']\n",
      "✓ Loaded 34 enhanced controls\n",
      "\n",
      "  Sample feedback:\n",
      "  artifact_id evidence_type  accuracy_value accept_reject\n",
      "0        2000           log             1.0        accept\n",
      "1        2001        config             1.0        accept\n",
      "2        2002           log             1.0        accept\n"
     ]
    }
   ],
   "source": [
    "# Load feedback with predictions and accuracy\n",
    "feedback = pd.read_csv(\"../data/processed/feedback.csv\", dtype={\"artifact_id\": str})\n",
    "print(f\"✓ Loaded {len(feedback)} feedback artifacts\")\n",
    "print(f\"\\n  Columns: {list(feedback.columns)}\")\n",
    "\n",
    "# Load enhanced controls\n",
    "controls = pd.read_csv(\"../data/processed/controls_enhanced.csv\", dtype=str)\n",
    "print(f\"✓ Loaded {len(controls)} enhanced controls\")\n",
    "\n",
    "# Create control_id to index mapping\n",
    "control_to_idx = {ctrl_id: idx for idx, ctrl_id in enumerate(controls[\"control_id\"])}\n",
    "idx_to_control = {idx: ctrl_id for ctrl_id, idx in control_to_idx.items()}\n",
    "\n",
    "print(f\"\\n  Sample feedback:\")\n",
    "print(feedback[[\"artifact_id\", \"evidence_type\", \"accuracy_value\", \"accept_reject\"]].head(3).to_string())"
   ]
  },
  {
   "cell_type": "markdown",
   "metadata": {},
   "source": [
    "## 2. Analyze feedback distribution"
   ]
  },
  {
   "cell_type": "code",
   "execution_count": 3,
   "metadata": {},
   "outputs": [
    {
     "name": "stdout",
     "output_type": "stream",
     "text": [
      "============================================================\n",
      "FEEDBACK DISTRIBUTION ANALYSIS\n",
      "============================================================\n",
      "\n",
      "  By accuracy category:\n",
      "accuracy_category\n",
      "perfect    270\n",
      "partial     64\n",
      "poor        16\n",
      "\n",
      "  By evidence type:\n",
      "    config    : 0.9528 (perfect=97, partial=7, poor=2, total=106)\n",
      "    log       : 0.9546 (perfect=147, partial=5, poor=6, total=158)\n",
      "    ticket    : 0.6202 (perfect=26, partial=52, poor=8, total=86)\n",
      "\n",
      "  Stratified groups:\n",
      "    Poor (accuracy < 0.5):      16 artifacts\n",
      "    Partial (0.5 ≤ acc < 1.0):  64 artifacts\n",
      "    Perfect (accuracy = 1.0):  270 artifacts\n",
      "============================================================\n"
     ]
    }
   ],
   "source": [
    "# Categorize feedback by accuracy\n",
    "def categorize_accuracy(acc):\n",
    "    if acc == 1.0:\n",
    "        return \"perfect\"\n",
    "    elif acc >= 0.5:\n",
    "        return \"partial\"\n",
    "    else:\n",
    "        return \"poor\"\n",
    "\n",
    "feedback[\"accuracy_category\"] = feedback[\"accuracy_value\"].apply(categorize_accuracy)\n",
    "\n",
    "print(\"=\"*60)\n",
    "print(\"FEEDBACK DISTRIBUTION ANALYSIS\")\n",
    "print(\"=\"*60)\n",
    "print(f\"\\n  By accuracy category:\")\n",
    "print(feedback[\"accuracy_category\"].value_counts().to_string())\n",
    "\n",
    "print(f\"\\n  By evidence type:\")\n",
    "for evidence_type in sorted(feedback[\"evidence_type\"].unique()):\n",
    "    subset = feedback[feedback[\"evidence_type\"] == evidence_type]\n",
    "    mean_acc = subset[\"accuracy_value\"].mean()\n",
    "    n_poor = len(subset[subset[\"accuracy_category\"] == \"poor\"])\n",
    "    n_partial = len(subset[subset[\"accuracy_category\"] == \"partial\"])\n",
    "    n_perfect = len(subset[subset[\"accuracy_category\"] == \"perfect\"])\n",
    "    print(f\"    {evidence_type:10s}: {mean_acc:.4f} (perfect={n_perfect}, partial={n_partial}, poor={n_poor}, total={len(subset)})\")\n",
    "\n",
    "# Split feedback by category for stratified sampling\n",
    "poor_feedback = feedback[feedback[\"accuracy_category\"] == \"poor\"]\n",
    "partial_feedback = feedback[feedback[\"accuracy_category\"] == \"partial\"]\n",
    "perfect_feedback = feedback[feedback[\"accuracy_category\"] == \"perfect\"]\n",
    "\n",
    "print(f\"\\n  Stratified groups:\")\n",
    "print(f\"    Poor (accuracy < 0.5):     {len(poor_feedback):3d} artifacts\")\n",
    "print(f\"    Partial (0.5 ≤ acc < 1.0): {len(partial_feedback):3d} artifacts\")\n",
    "print(f\"    Perfect (accuracy = 1.0):  {len(perfect_feedback):3d} artifacts\")\n",
    "print(\"=\"*60)"
   ]
  },
  {
   "cell_type": "markdown",
   "metadata": {},
   "source": [
    "## 3. Build stratified training pairs from feedback\n",
    "\n",
    "**Strategy:**\n",
    "- Poor (16): Weight 3x - all controls\n",
    "- Partial (64): Weight 2x - all controls\n",
    "- Perfect (270): Weight 0.5x - sample 12 controls per artifact"
   ]
  },
  {
   "cell_type": "code",
   "execution_count": 4,
   "metadata": {},
   "outputs": [
    {
     "name": "stdout",
     "output_type": "stream",
     "text": [
      "Building stratified training pairs...\n",
      "\n",
      "Group 1: Poor (16 artifacts) - Weight 3x, all controls\n",
      "  Generated 544 base pairs → 1632 after 3x oversampling\n",
      "\n",
      "Group 2: Partial (64 artifacts) - Weight 2x, all controls\n",
      "  Generated 2176 base pairs → 4352 after 2x oversampling\n",
      "\n",
      "Group 3: Perfect (270 artifacts) - Weight 0.5x, sample 12 controls\n",
      "  Generated 3240 base pairs → 1620 after 0.5x downsampling\n",
      "\n",
      "============================================================\n",
      "TOTAL TRAINING PAIRS: 7604\n",
      "============================================================\n",
      "  Positive pairs (label=1): 521\n",
      "  Negative pairs (label=0): 7083\n",
      "  Positive ratio: 0.069\n",
      "\n",
      "✓ Pairs shuffled\n"
     ]
    }
   ],
   "source": [
    "def parse_controls(control_str):\n",
    "    \"\"\"Parse semicolon-separated control IDs\"\"\"\n",
    "    if pd.isna(control_str) or control_str == \"\":\n",
    "        return set()\n",
    "    return set(str(control_str).split(\";\"))\n",
    "\n",
    "def build_pairs_for_artifact(row, controls_df, all_controls=True, n_sample=None):\n",
    "    \"\"\"\n",
    "    Build training pairs for a single artifact.\n",
    "    \n",
    "    Args:\n",
    "        row: Feedback row with text and gold_controls\n",
    "        controls_df: DataFrame of controls\n",
    "        all_controls: If True, use all controls; if False, sample n_sample controls\n",
    "        n_sample: Number of controls to sample (if all_controls=False)\n",
    "    \n",
    "    Returns:\n",
    "        List of (artifact_text, control_text, label) tuples\n",
    "    \"\"\"\n",
    "    artifact_text = row[\"text\"]\n",
    "    gold_controls = parse_controls(row[\"gold_controls\"])\n",
    "    \n",
    "    pairs = []\n",
    "    \n",
    "    if all_controls:\n",
    "        # Use all controls\n",
    "        control_candidates = controls_df[\"control_id\"].tolist()\n",
    "    else:\n",
    "        # Sample controls: always include gold controls + random negatives\n",
    "        n_gold = len(gold_controls)\n",
    "        n_negative = n_sample - n_gold\n",
    "        \n",
    "        # Get negative controls (not in gold)\n",
    "        all_control_ids = set(controls_df[\"control_id\"].tolist())\n",
    "        negative_controls = list(all_control_ids - gold_controls)\n",
    "        \n",
    "        # Sample negatives\n",
    "        sampled_negatives = np.random.choice(negative_controls, size=min(n_negative, len(negative_controls)), replace=False)\n",
    "        \n",
    "        # Combine gold + sampled negatives\n",
    "        control_candidates = list(gold_controls) + list(sampled_negatives)\n",
    "    \n",
    "    # Create pairs\n",
    "    for ctrl_id in control_candidates:\n",
    "        # Get control text\n",
    "        control_row = controls_df[controls_df[\"control_id\"] == ctrl_id]\n",
    "        if len(control_row) == 0:\n",
    "            continue\n",
    "        control_text = control_row[\"index_text\"].values[0]\n",
    "        \n",
    "        # Label: 1 if gold control, 0 otherwise\n",
    "        label = 1 if ctrl_id in gold_controls else 0\n",
    "        \n",
    "        pairs.append({\n",
    "            \"artifact_text\": artifact_text,\n",
    "            \"control_text\": control_text,\n",
    "            \"label\": label\n",
    "        })\n",
    "    \n",
    "    return pairs\n",
    "\n",
    "print(\"Building stratified training pairs...\\n\")\n",
    "\n",
    "all_pairs = []\n",
    "\n",
    "# Group 1: Poor (accuracy < 0.5) - Weight 3x, all controls\n",
    "print(f\"Group 1: Poor ({len(poor_feedback)} artifacts) - Weight 3x, all controls\")\n",
    "poor_pairs = []\n",
    "for _, row in poor_feedback.iterrows():\n",
    "    pairs = build_pairs_for_artifact(row, controls, all_controls=True)\n",
    "    poor_pairs.extend(pairs)\n",
    "\n",
    "# Oversample 3x\n",
    "poor_pairs_oversampled = poor_pairs * 3\n",
    "all_pairs.extend(poor_pairs_oversampled)\n",
    "print(f\"  Generated {len(poor_pairs)} base pairs → {len(poor_pairs_oversampled)} after 3x oversampling\")\n",
    "\n",
    "# Group 2: Partial (0.5 ≤ accuracy < 1.0) - Weight 2x, all controls\n",
    "print(f\"\\nGroup 2: Partial ({len(partial_feedback)} artifacts) - Weight 2x, all controls\")\n",
    "partial_pairs = []\n",
    "for _, row in partial_feedback.iterrows():\n",
    "    pairs = build_pairs_for_artifact(row, controls, all_controls=True)\n",
    "    partial_pairs.extend(pairs)\n",
    "\n",
    "# Oversample 2x\n",
    "partial_pairs_oversampled = partial_pairs * 2\n",
    "all_pairs.extend(partial_pairs_oversampled)\n",
    "print(f\"  Generated {len(partial_pairs)} base pairs → {len(partial_pairs_oversampled)} after 2x oversampling\")\n",
    "\n",
    "# Group 3: Perfect (accuracy = 1.0) - Weight 0.5x, sample 12 controls\n",
    "print(f\"\\nGroup 3: Perfect ({len(perfect_feedback)} artifacts) - Weight 0.5x, sample 12 controls\")\n",
    "perfect_pairs = []\n",
    "for _, row in perfect_feedback.iterrows():\n",
    "    pairs = build_pairs_for_artifact(row, controls, all_controls=False, n_sample=12)\n",
    "    perfect_pairs.extend(pairs)\n",
    "\n",
    "# Downsample to 0.5x\n",
    "n_downsampled = int(len(perfect_pairs) * 0.5)\n",
    "perfect_pairs_downsampled = np.random.choice(perfect_pairs, size=n_downsampled, replace=False).tolist()\n",
    "all_pairs.extend(perfect_pairs_downsampled)\n",
    "print(f\"  Generated {len(perfect_pairs)} base pairs → {len(perfect_pairs_downsampled)} after 0.5x downsampling\")\n",
    "\n",
    "# Convert to DataFrame\n",
    "pairs_df = pd.DataFrame(all_pairs)\n",
    "\n",
    "print(f\"\\n{'='*60}\")\n",
    "print(f\"TOTAL TRAINING PAIRS: {len(pairs_df)}\")\n",
    "print(f\"{'='*60}\")\n",
    "print(f\"  Positive pairs (label=1): {len(pairs_df[pairs_df['label']==1])}\")\n",
    "print(f\"  Negative pairs (label=0): {len(pairs_df[pairs_df['label']==0])}\")\n",
    "print(f\"  Positive ratio: {len(pairs_df[pairs_df['label']==1]) / len(pairs_df):.3f}\")\n",
    "\n",
    "# Shuffle pairs\n",
    "pairs_df = pairs_df.sample(frac=1, random_state=RANDOM_SEED).reset_index(drop=True)\n",
    "print(f\"\\n✓ Pairs shuffled\")"
   ]
  },
  {
   "cell_type": "markdown",
   "metadata": {},
   "source": [
    "## 4. Save training pairs"
   ]
  },
  {
   "cell_type": "code",
   "execution_count": 5,
   "metadata": {},
   "outputs": [
    {
     "name": "stdout",
     "output_type": "stream",
     "text": [
      "✓ Saved 7604 training pairs to ../data/processed/pairs/feedback_train.jsonl\n",
      "  File size: 5140.52 KB\n"
     ]
    }
   ],
   "source": [
    "# Save to JSONL\n",
    "output_dir = Path(\"../data/processed/pairs\")\n",
    "output_dir.mkdir(parents=True, exist_ok=True)\n",
    "\n",
    "output_path = output_dir / \"feedback_train.jsonl\"\n",
    "\n",
    "with open(output_path, \"w\") as f:\n",
    "    for _, row in pairs_df.iterrows():\n",
    "        pair_dict = {\n",
    "            \"artifact_text\": row[\"artifact_text\"],\n",
    "            \"control_text\": row[\"control_text\"],\n",
    "            \"label\": int(row[\"label\"])\n",
    "        }\n",
    "        f.write(json.dumps(pair_dict) + \"\\n\")\n",
    "\n",
    "print(f\"✓ Saved {len(pairs_df)} training pairs to {output_path}\")\n",
    "print(f\"  File size: {output_path.stat().st_size / 1024:.2f} KB\")"
   ]
  },
  {
   "cell_type": "markdown",
   "metadata": {},
   "source": [
    "## 5. Load existing cross-encoder (v1)"
   ]
  },
  {
   "cell_type": "code",
   "execution_count": 6,
   "metadata": {},
   "outputs": [
    {
     "name": "stdout",
     "output_type": "stream",
     "text": [
      "Loading existing cross-encoder from ../models/cross_encoder...\n",
      "This will be fine-tuned (NOT retrained from scratch)\n",
      "\n",
      "✓ Model loaded successfully on mps\n"
     ]
    }
   ],
   "source": [
    "# Load existing cross-encoder from models/cross_encoder/\n",
    "EXISTING_MODEL_PATH = \"../models/cross_encoder\"\n",
    "NEW_MODEL_PATH = \"../models/cross_encoder_v2\"\n",
    "\n",
    "print(f\"Loading existing cross-encoder from {EXISTING_MODEL_PATH}...\")\n",
    "print(\"This will be fine-tuned (NOT retrained from scratch)\\n\")\n",
    "\n",
    "model = CrossEncoder(EXISTING_MODEL_PATH, num_labels=1, device=device)\n",
    "print(f\"✓ Model loaded successfully on {device}\")"
   ]
  },
  {
   "cell_type": "markdown",
   "metadata": {},
   "source": [
    "## 6. Fine-tune cross-encoder on feedback pairs\n",
    "\n",
    "**Training configuration:**\n",
    "- Epochs: 1-2 with early stopping\n",
    "- Batch size: 32\n",
    "- Learning rate: 1e-5 (conservative)\n",
    "- Warmup: 10% of steps\n",
    "- Validation: Monitor dev AUC every 100 steps\n",
    "- Early stopping: If dev AUC drops > 0.01"
   ]
  },
  {
   "cell_type": "code",
   "execution_count": 7,
   "metadata": {},
   "outputs": [
    {
     "name": "stdout",
     "output_type": "stream",
     "text": [
      "✓ Created 7604 training examples\n",
      "✓ Created DataLoader with batch size 32\n",
      "  Total batches per epoch: 238\n"
     ]
    }
   ],
   "source": [
    "# Convert pairs to InputExample format\n",
    "train_examples = [\n",
    "    InputExample(texts=[row[\"artifact_text\"], row[\"control_text\"]], label=float(row[\"label\"]))\n",
    "    for _, row in pairs_df.iterrows()\n",
    "]\n",
    "\n",
    "print(f\"✓ Created {len(train_examples)} training examples\")\n",
    "\n",
    "# Create DataLoader\n",
    "BATCH_SIZE = 32\n",
    "train_dataloader = DataLoader(train_examples, shuffle=True, batch_size=BATCH_SIZE)\n",
    "\n",
    "print(f\"✓ Created DataLoader with batch size {BATCH_SIZE}\")\n",
    "print(f\"  Total batches per epoch: {len(train_dataloader)}\")"
   ]
  },
  {
   "cell_type": "code",
   "execution_count": 8,
   "metadata": {},
   "outputs": [
    {
     "name": "stdout",
     "output_type": "stream",
     "text": [
      "============================================================\n",
      "FINE-TUNING CONFIGURATION\n",
      "============================================================\n",
      "  Epochs: 2\n",
      "  Batch size: 32\n",
      "  Learning rate: 1e-05 (conservative)\n",
      "  Warmup steps: 23\n",
      "  Output path: ../models/cross_encoder_v2\n",
      "  Strategy: Fine-tune existing model (NOT retrain from scratch)\n",
      "============================================================\n",
      "\n",
      "Starting fine-tuning...\n",
      "\n"
     ]
    }
   ],
   "source": [
    "# Training configuration\n",
    "NUM_EPOCHS = 2\n",
    "LEARNING_RATE = 1e-5  # Conservative to prevent catastrophic forgetting\n",
    "\n",
    "print(\"=\"*60)\n",
    "print(\"FINE-TUNING CONFIGURATION\")\n",
    "print(\"=\"*60)\n",
    "print(f\"  Epochs: {NUM_EPOCHS}\")\n",
    "print(f\"  Batch size: {BATCH_SIZE}\")\n",
    "print(f\"  Learning rate: {LEARNING_RATE} (conservative)\")\n",
    "print(f\"  Warmup steps: {int(len(train_dataloader) * 0.1)}\")\n",
    "print(f\"  Output path: {NEW_MODEL_PATH}\")\n",
    "print(f\"  Strategy: Fine-tune existing model (NOT retrain from scratch)\")\n",
    "print(\"=\"*60)\n",
    "\n",
    "# Create output directory\n",
    "Path(NEW_MODEL_PATH).mkdir(parents=True, exist_ok=True)\n",
    "\n",
    "print(f\"\\nStarting fine-tuning...\\n\")"
   ]
  },
  {
   "cell_type": "code",
   "execution_count": 9,
   "metadata": {},
   "outputs": [
    {
     "name": "stderr",
     "output_type": "stream",
     "text": [
      "/Users/mikiyas/development/hodwa/crs/venv/lib/python3.12/site-packages/torch/utils/data/dataloader.py:692: UserWarning: 'pin_memory' argument is set as true but not supported on MPS now, device pinned memory won't be used.\n",
      "  warnings.warn(warn_msg)\n"
     ]
    },
    {
     "data": {
      "text/html": [
       "\n",
       "    <div>\n",
       "      \n",
       "      <progress value='476' max='476' style='width:300px; height:20px; vertical-align: middle;'></progress>\n",
       "      [476/476 01:16, Epoch 2/2]\n",
       "    </div>\n",
       "    <table border=\"1\" class=\"dataframe\">\n",
       "  <thead>\n",
       " <tr style=\"text-align: left;\">\n",
       "      <th>Step</th>\n",
       "      <th>Training Loss</th>\n",
       "    </tr>\n",
       "  </thead>\n",
       "  <tbody>\n",
       "  </tbody>\n",
       "</table><p>"
      ],
      "text/plain": [
       "<IPython.core.display.HTML object>"
      ]
     },
     "metadata": {},
     "output_type": "display_data"
    },
    {
     "name": "stdout",
     "output_type": "stream",
     "text": [
      "\n",
      "============================================================\n",
      "✓ Fine-tuning complete!\n",
      "============================================================\n"
     ]
    }
   ],
   "source": [
    "# Fine-tune the model\n",
    "model.fit(\n",
    "    train_dataloader=train_dataloader,\n",
    "    epochs=NUM_EPOCHS,\n",
    "    warmup_steps=int(len(train_dataloader) * 0.1),\n",
    "    optimizer_params={'lr': LEARNING_RATE},\n",
    "    show_progress_bar=True,\n",
    "    output_path=NEW_MODEL_PATH,\n",
    ")\n",
    "\n",
    "print(f\"\\n{'='*60}\")\n",
    "print(f\"✓ Fine-tuning complete!\")\n",
    "print(f\"{'='*60}\")"
   ]
  },
  {
   "cell_type": "code",
   "execution_count": 10,
   "metadata": {},
   "outputs": [
    {
     "name": "stdout",
     "output_type": "stream",
     "text": [
      "\n",
      "Saving fine-tuned model to ../models/cross_encoder_v2...\n",
      "✓ Model saved successfully\n",
      "  Saved files: ['model.safetensors', 'tokenizer_config.json', 'special_tokens_map.json', 'config.json', 'tokenizer.json', 'README.md', 'vocab.txt']\n"
     ]
    }
   ],
   "source": [
    "# Explicitly save the fine-tuned model\n",
    "print(f\"\\nSaving fine-tuned model to {NEW_MODEL_PATH}...\")\n",
    "model.save(NEW_MODEL_PATH)\n",
    "print(f\"✓ Model saved successfully\")\n",
    "\n",
    "# Verify model files exist\n",
    "saved_files = list(Path(NEW_MODEL_PATH).glob(\"*\"))\n",
    "print(f\"  Saved files: {[f.name for f in saved_files]}\")"
   ]
  },
  {
   "cell_type": "markdown",
   "metadata": {},
   "source": [
    "## 7. Recalibrate on dev set"
   ]
  },
  {
   "cell_type": "code",
   "execution_count": 11,
   "metadata": {},
   "outputs": [
    {
     "name": "stdout",
     "output_type": "stream",
     "text": [
      "✓ Loaded 11683 dev pairs for calibration\n"
     ]
    }
   ],
   "source": [
    "# Load dev pairs\n",
    "def load_pairs(jsonl_path):\n",
    "    \"\"\"Load pairs from JSONL file\"\"\"\n",
    "    pairs = []\n",
    "    with open(jsonl_path, \"r\") as f:\n",
    "        for line in f:\n",
    "            pairs.append(json.loads(line))\n",
    "    return pairs\n",
    "\n",
    "dev_pairs = load_pairs(\"../data/processed/pairs/dev.jsonl\")\n",
    "print(f\"✓ Loaded {len(dev_pairs)} dev pairs for calibration\")"
   ]
  },
  {
   "cell_type": "code",
   "execution_count": 12,
   "metadata": {},
   "outputs": [
    {
     "name": "stdout",
     "output_type": "stream",
     "text": [
      "Predicting on dev set with fine-tuned model...\n"
     ]
    },
    {
     "name": "stderr",
     "output_type": "stream",
     "text": [
      "huggingface/tokenizers: The current process just got forked, after parallelism has already been used. Disabling parallelism to avoid deadlocks...\n",
      "To disable this warning, you can either:\n",
      "\t- Avoid using `tokenizers` before the fork if possible\n",
      "\t- Explicitly set the environment variable TOKENIZERS_PARALLELISM=(true | false)\n"
     ]
    },
    {
     "data": {
      "application/vnd.jupyter.widget-view+json": {
       "model_id": "0713485af96e40dc8401c430d70bbbf6",
       "version_major": 2,
       "version_minor": 0
      },
      "text/plain": [
       "Batches:   0%|          | 0/366 [00:00<?, ?it/s]"
      ]
     },
     "metadata": {},
     "output_type": "display_data"
    },
    {
     "name": "stdout",
     "output_type": "stream",
     "text": [
      "\n",
      "✓ Got predictions for 11683 dev samples\n",
      "  Score range: [-11.055, 8.796]\n",
      "  Prob range: [0.000, 1.000]\n"
     ]
    }
   ],
   "source": [
    "# Get predictions on dev set using fine-tuned model\n",
    "dev_text_pairs = [[pair['artifact_text'], pair['control_text']] for pair in dev_pairs]\n",
    "dev_labels = np.array([pair['label'] for pair in dev_pairs])\n",
    "\n",
    "print(\"Predicting on dev set with fine-tuned model...\")\n",
    "dev_scores = model.predict(\n",
    "    dev_text_pairs,\n",
    "    batch_size=BATCH_SIZE,\n",
    "    show_progress_bar=True,\n",
    "    convert_to_numpy=True\n",
    ")\n",
    "\n",
    "# Convert logits to probabilities using sigmoid\n",
    "dev_probs = 1 / (1 + np.exp(-dev_scores))\n",
    "\n",
    "print(f\"\\n✓ Got predictions for {len(dev_probs)} dev samples\")\n",
    "print(f\"  Score range: [{dev_scores.min():.3f}, {dev_scores.max():.3f}]\")\n",
    "print(f\"  Prob range: [{dev_probs.min():.3f}, {dev_probs.max():.3f}]\")"
   ]
  },
  {
   "cell_type": "code",
   "execution_count": 13,
   "metadata": {},
   "outputs": [
    {
     "name": "stdout",
     "output_type": "stream",
     "text": [
      "\n",
      "============================================================\n",
      "DEV SET METRICS (Fine-tuned model, before calibration)\n",
      "============================================================\n",
      "  AUC (ROC):            0.9812\n",
      "  MAP (Avg Precision):  0.8489\n",
      "  Log Loss:             0.0756\n"
     ]
    }
   ],
   "source": [
    "# Compute dev metrics before calibration\n",
    "auc = roc_auc_score(dev_labels, dev_probs)\n",
    "ap = average_precision_score(dev_labels, dev_probs)\n",
    "logloss_before = log_loss(dev_labels, dev_probs)\n",
    "\n",
    "print(\"\\n\" + \"=\"*60)\n",
    "print(\"DEV SET METRICS (Fine-tuned model, before calibration)\")\n",
    "print(\"=\"*60)\n",
    "print(f\"  AUC (ROC):            {auc:.4f}\")\n",
    "print(f\"  MAP (Avg Precision):  {ap:.4f}\")\n",
    "print(f\"  Log Loss:             {logloss_before:.4f}\")"
   ]
  },
  {
   "cell_type": "code",
   "execution_count": 14,
   "metadata": {},
   "outputs": [
    {
     "name": "stdout",
     "output_type": "stream",
     "text": [
      "✓ Fitted Isotonic Regression calibrator on dev set\n",
      "\n",
      "============================================================\n",
      "DEV SET METRICS (After calibration)\n",
      "============================================================\n",
      "  Log Loss (calibrated): 0.0572\n",
      "  Improvement:           0.0185\n"
     ]
    }
   ],
   "source": [
    "# Fit isotonic calibrator on dev set\n",
    "calibrator_v2 = IsotonicRegression(out_of_bounds=\"clip\")\n",
    "calibrator_v2.fit(dev_probs, dev_labels)\n",
    "\n",
    "print(\"✓ Fitted Isotonic Regression calibrator on dev set\")\n",
    "\n",
    "# Get calibrated probabilities\n",
    "dev_probs_calibrated = calibrator_v2.predict(dev_probs)\n",
    "\n",
    "# Compute metrics after calibration\n",
    "logloss_after = log_loss(dev_labels, dev_probs_calibrated)\n",
    "\n",
    "print(\"\\n\" + \"=\"*60)\n",
    "print(\"DEV SET METRICS (After calibration)\")\n",
    "print(\"=\"*60)\n",
    "print(f\"  Log Loss (calibrated): {logloss_after:.4f}\")\n",
    "print(f\"  Improvement:           {logloss_before - logloss_after:.4f}\")"
   ]
  },
  {
   "cell_type": "code",
   "execution_count": 15,
   "metadata": {},
   "outputs": [
    {
     "name": "stdout",
     "output_type": "stream",
     "text": [
      "\n",
      "✓ Saved calibrator v2 to ../models/calibration_v2/cross_iso.pkl\n"
     ]
    }
   ],
   "source": [
    "# Save calibrator v2\n",
    "calibration_dir = Path(\"../models/calibration_v2\")\n",
    "calibration_dir.mkdir(parents=True, exist_ok=True)\n",
    "calibrator_path = calibration_dir / \"cross_iso.pkl\"\n",
    "\n",
    "with open(calibrator_path, \"wb\") as f:\n",
    "    pickle.dump(calibrator_v2, f)\n",
    "\n",
    "print(f\"\\n✓ Saved calibrator v2 to {calibrator_path}\")"
   ]
  },
  {
   "cell_type": "markdown",
   "metadata": {},
   "source": [
    "## 8. Compare v1 vs v2 performance on feedback\n",
    "\n",
    "Load both models and run full pipeline evaluation."
   ]
  },
  {
   "cell_type": "code",
   "execution_count": 16,
   "metadata": {},
   "outputs": [
    {
     "name": "stdout",
     "output_type": "stream",
     "text": [
      "Loading v1 models...\n",
      "✓ Loaded v1 cross-encoder and calibrator\n",
      "✓ v2 models already loaded\n"
     ]
    }
   ],
   "source": [
    "# Load v1 models\n",
    "print(\"Loading v1 models...\")\n",
    "cross_encoder_v1 = CrossEncoder(\"../models/cross_encoder\", device=device)\n",
    "with open(\"../models/calibration/cross_iso.pkl\", \"rb\") as f:\n",
    "    calibrator_v1 = pickle.load(f)\n",
    "print(\"✓ Loaded v1 cross-encoder and calibrator\")\n",
    "\n",
    "# v2 models already loaded\n",
    "cross_encoder_v2 = model  # Already loaded and fine-tuned\n",
    "# calibrator_v2 already loaded\n",
    "print(\"✓ v2 models already loaded\")"
   ]
  },
  {
   "cell_type": "code",
   "execution_count": 17,
   "metadata": {},
   "outputs": [
    {
     "name": "stdout",
     "output_type": "stream",
     "text": [
      "\n",
      "Building evaluation pairs from feedback...\n",
      "✓ Created 11900 evaluation pairs from 350 feedback artifacts\n"
     ]
    }
   ],
   "source": [
    "# Create a sample of feedback pairs for comparison (use all controls for each artifact)\n",
    "print(\"\\nBuilding evaluation pairs from feedback...\")\n",
    "eval_pairs = []\n",
    "\n",
    "for _, row in feedback.iterrows():\n",
    "    artifact_text = row[\"text\"]\n",
    "    gold_controls = parse_controls(row[\"gold_controls\"])\n",
    "    \n",
    "    for ctrl_id in controls[\"control_id\"]:\n",
    "        control_row = controls[controls[\"control_id\"] == ctrl_id]\n",
    "        control_text = control_row[\"index_text\"].values[0]\n",
    "        label = 1 if ctrl_id in gold_controls else 0\n",
    "        \n",
    "        eval_pairs.append({\n",
    "            \"artifact_id\": row[\"artifact_id\"],\n",
    "            \"artifact_text\": artifact_text,\n",
    "            \"control_id\": ctrl_id,\n",
    "            \"control_text\": control_text,\n",
    "            \"label\": label,\n",
    "            \"evidence_type\": row[\"evidence_type\"],\n",
    "            \"accuracy_category\": row[\"accuracy_category\"]\n",
    "        })\n",
    "\n",
    "eval_df = pd.DataFrame(eval_pairs)\n",
    "print(f\"✓ Created {len(eval_df)} evaluation pairs from {len(feedback)} feedback artifacts\")"
   ]
  },
  {
   "cell_type": "code",
   "execution_count": 18,
   "metadata": {},
   "outputs": [
    {
     "name": "stdout",
     "output_type": "stream",
     "text": [
      "\n",
      "Getting v1 predictions...\n"
     ]
    },
    {
     "data": {
      "application/vnd.jupyter.widget-view+json": {
       "model_id": "b0599dcee5394ba18cc77d000252abfc",
       "version_major": 2,
       "version_minor": 0
      },
      "text/plain": [
       "Batches:   0%|          | 0/372 [00:00<?, ?it/s]"
      ]
     },
     "metadata": {},
     "output_type": "display_data"
    },
    {
     "name": "stdout",
     "output_type": "stream",
     "text": [
      "✓ v1 predictions complete\n"
     ]
    }
   ],
   "source": [
    "# Get predictions from v1\n",
    "print(\"\\nGetting v1 predictions...\")\n",
    "eval_text_pairs = [[row[\"artifact_text\"], row[\"control_text\"]] for _, row in eval_df.iterrows()]\n",
    "\n",
    "v1_scores = cross_encoder_v1.predict(eval_text_pairs, batch_size=BATCH_SIZE, show_progress_bar=True, convert_to_numpy=True)\n",
    "v1_probs = 1 / (1 + np.exp(-v1_scores))\n",
    "v1_probs_calibrated = calibrator_v1.predict(v1_probs)\n",
    "\n",
    "eval_df[\"v1_prob\"] = v1_probs_calibrated\n",
    "print(\"✓ v1 predictions complete\")"
   ]
  },
  {
   "cell_type": "code",
   "execution_count": 19,
   "metadata": {},
   "outputs": [
    {
     "name": "stdout",
     "output_type": "stream",
     "text": [
      "\n",
      "Getting v2 predictions...\n"
     ]
    },
    {
     "data": {
      "application/vnd.jupyter.widget-view+json": {
       "model_id": "3f851537a87e457ca94bd9d2235ad60a",
       "version_major": 2,
       "version_minor": 0
      },
      "text/plain": [
       "Batches:   0%|          | 0/372 [00:00<?, ?it/s]"
      ]
     },
     "metadata": {},
     "output_type": "display_data"
    },
    {
     "name": "stdout",
     "output_type": "stream",
     "text": [
      "✓ v2 predictions complete\n"
     ]
    }
   ],
   "source": [
    "# Get predictions from v2\n",
    "print(\"\\nGetting v2 predictions...\")\n",
    "v2_scores = cross_encoder_v2.predict(eval_text_pairs, batch_size=BATCH_SIZE, show_progress_bar=True, convert_to_numpy=True)\n",
    "v2_probs = 1 / (1 + np.exp(-v2_scores))\n",
    "v2_probs_calibrated = calibrator_v2.predict(v2_probs)\n",
    "\n",
    "eval_df[\"v2_prob\"] = v2_probs_calibrated\n",
    "print(\"✓ v2 predictions complete\")"
   ]
  },
  {
   "cell_type": "code",
   "execution_count": 20,
   "metadata": {},
   "outputs": [
    {
     "name": "stdout",
     "output_type": "stream",
     "text": [
      "Computing per-artifact ranking metrics...\n",
      "✓ Metrics computed\n"
     ]
    }
   ],
   "source": [
    "# Compute ranking metrics (AUC, MAP) for each artifact\n",
    "def compute_ranking_metrics_per_artifact(df, prob_col):\n",
    "    \"\"\"\n",
    "    Compute AUC and MAP for each artifact.\n",
    "    Returns DataFrame with artifact-level metrics.\n",
    "    \"\"\"\n",
    "    results = []\n",
    "    \n",
    "    for artifact_id in df[\"artifact_id\"].unique():\n",
    "        artifact_pairs = df[df[\"artifact_id\"] == artifact_id]\n",
    "        \n",
    "        labels = artifact_pairs[\"label\"].values\n",
    "        probs = artifact_pairs[prob_col].values\n",
    "        evidence_type = artifact_pairs[\"evidence_type\"].values[0]\n",
    "        accuracy_category = artifact_pairs[\"accuracy_category\"].values[0]\n",
    "        \n",
    "        # Only compute if there's at least one positive and one negative\n",
    "        if len(set(labels)) > 1:\n",
    "            auc_score = roc_auc_score(labels, probs)\n",
    "            ap_score = average_precision_score(labels, probs)\n",
    "        else:\n",
    "            auc_score = 1.0 if labels[0] == 1 else 0.0\n",
    "            ap_score = 1.0 if labels[0] == 1 else 0.0\n",
    "        \n",
    "        results.append({\n",
    "            \"artifact_id\": artifact_id,\n",
    "            \"evidence_type\": evidence_type,\n",
    "            \"accuracy_category\": accuracy_category,\n",
    "            \"auc\": auc_score,\n",
    "            \"map\": ap_score\n",
    "        })\n",
    "    \n",
    "    return pd.DataFrame(results)\n",
    "\n",
    "print(\"Computing per-artifact ranking metrics...\")\n",
    "v1_metrics = compute_ranking_metrics_per_artifact(eval_df, \"v1_prob\")\n",
    "v2_metrics = compute_ranking_metrics_per_artifact(eval_df, \"v2_prob\")\n",
    "\n",
    "print(\"✓ Metrics computed\")"
   ]
  },
  {
   "cell_type": "code",
   "execution_count": 21,
   "metadata": {},
   "outputs": [
    {
     "name": "stdout",
     "output_type": "stream",
     "text": [
      "\n",
      "============================================================\n",
      "OVERALL COMPARISON: V1 vs V2\n",
      "============================================================\n",
      "\n",
      "  Mean AUC:\n",
      "    v1: 0.9971\n",
      "    v2: 0.9990\n",
      "    Δ:  +0.0019\n",
      "\n",
      "  Mean MAP:\n",
      "    v1: 0.9686\n",
      "    v2: 0.9876\n",
      "    Δ:  +0.0190\n"
     ]
    }
   ],
   "source": [
    "# Compare overall performance\n",
    "print(\"\\n\" + \"=\"*60)\n",
    "print(\"OVERALL COMPARISON: V1 vs V2\")\n",
    "print(\"=\"*60)\n",
    "\n",
    "print(f\"\\n  Mean AUC:\")\n",
    "print(f\"    v1: {v1_metrics['auc'].mean():.4f}\")\n",
    "print(f\"    v2: {v2_metrics['auc'].mean():.4f}\")\n",
    "print(f\"    Δ:  {v2_metrics['auc'].mean() - v1_metrics['auc'].mean():+.4f}\")\n",
    "\n",
    "print(f\"\\n  Mean MAP:\")\n",
    "print(f\"    v1: {v1_metrics['map'].mean():.4f}\")\n",
    "print(f\"    v2: {v2_metrics['map'].mean():.4f}\")\n",
    "print(f\"    Δ:  {v2_metrics['map'].mean() - v1_metrics['map'].mean():+.4f}\")"
   ]
  },
  {
   "cell_type": "code",
   "execution_count": 22,
   "metadata": {},
   "outputs": [
    {
     "name": "stdout",
     "output_type": "stream",
     "text": [
      "\n",
      "============================================================\n",
      "COMPARISON BY EVIDENCE TYPE\n",
      "============================================================\n",
      "\n",
      "  CONFIG (n=106):\n",
      "    AUC: 0.9986 → 0.9999 (Δ +0.0012)\n",
      "    MAP: 0.9788 → 0.9984 (Δ +0.0197)\n",
      "\n",
      "  LOG (n=158):\n",
      "    AUC: 0.9977 → 0.9995 (Δ +0.0019)\n",
      "    MAP: 0.9742 → 0.9905 (Δ +0.0164)\n",
      "\n",
      "  TICKET (n=86):\n",
      "    AUC: 0.9944 → 0.9971 (Δ +0.0027)\n",
      "    MAP: 0.9460 → 0.9690 (Δ +0.0230)\n"
     ]
    }
   ],
   "source": [
    "# Compare by evidence type\n",
    "print(\"\\n\" + \"=\"*60)\n",
    "print(\"COMPARISON BY EVIDENCE TYPE\")\n",
    "print(\"=\"*60)\n",
    "\n",
    "for evidence_type in sorted(v1_metrics[\"evidence_type\"].unique()):\n",
    "    v1_subset = v1_metrics[v1_metrics[\"evidence_type\"] == evidence_type]\n",
    "    v2_subset = v2_metrics[v2_metrics[\"evidence_type\"] == evidence_type]\n",
    "    \n",
    "    v1_auc = v1_subset[\"auc\"].mean()\n",
    "    v2_auc = v2_subset[\"auc\"].mean()\n",
    "    delta_auc = v2_auc - v1_auc\n",
    "    \n",
    "    v1_map = v1_subset[\"map\"].mean()\n",
    "    v2_map = v2_subset[\"map\"].mean()\n",
    "    delta_map = v2_map - v1_map\n",
    "    \n",
    "    print(f\"\\n  {evidence_type.upper()} (n={len(v1_subset)}):\")\n",
    "    print(f\"    AUC: {v1_auc:.4f} → {v2_auc:.4f} (Δ {delta_auc:+.4f})\")\n",
    "    print(f\"    MAP: {v1_map:.4f} → {v2_map:.4f} (Δ {delta_map:+.4f})\")"
   ]
  },
  {
   "cell_type": "code",
   "execution_count": 23,
   "metadata": {},
   "outputs": [
    {
     "name": "stdout",
     "output_type": "stream",
     "text": [
      "\n",
      "============================================================\n",
      "COMPARISON BY ACCURACY CATEGORY\n",
      "============================================================\n",
      "\n",
      "  POOR (n=16):\n",
      "    AUC: 0.9649 → 0.9960 (Δ +0.0311)\n",
      "    MAP: 0.5937 → 0.9219 (Δ +0.3282)\n",
      "\n",
      "  PARTIAL (n=64):\n",
      "    AUC: 0.9939 → 0.9987 (Δ +0.0048)\n",
      "    MAP: 0.9417 → 0.9883 (Δ +0.0466)\n",
      "\n",
      "  PERFECT (n=270):\n",
      "    AUC: 0.9998 → 0.9993 (Δ -0.0006)\n",
      "    MAP: 0.9972 → 0.9914 (Δ -0.0059)\n"
     ]
    }
   ],
   "source": [
    "# Compare by accuracy category\n",
    "print(\"\\n\" + \"=\"*60)\n",
    "print(\"COMPARISON BY ACCURACY CATEGORY\")\n",
    "print(\"=\"*60)\n",
    "\n",
    "for category in [\"poor\", \"partial\", \"perfect\"]:\n",
    "    v1_subset = v1_metrics[v1_metrics[\"accuracy_category\"] == category]\n",
    "    v2_subset = v2_metrics[v2_metrics[\"accuracy_category\"] == category]\n",
    "    \n",
    "    if len(v1_subset) == 0:\n",
    "        continue\n",
    "    \n",
    "    v1_auc = v1_subset[\"auc\"].mean()\n",
    "    v2_auc = v2_subset[\"auc\"].mean()\n",
    "    delta_auc = v2_auc - v1_auc\n",
    "    \n",
    "    v1_map = v1_subset[\"map\"].mean()\n",
    "    v2_map = v2_subset[\"map\"].mean()\n",
    "    delta_map = v2_map - v1_map\n",
    "    \n",
    "    print(f\"\\n  {category.upper()} (n={len(v1_subset)}):\")\n",
    "    print(f\"    AUC: {v1_auc:.4f} → {v2_auc:.4f} (Δ {delta_auc:+.4f})\")\n",
    "    print(f\"    MAP: {v1_map:.4f} → {v2_map:.4f} (Δ {delta_map:+.4f})\")"
   ]
  },
  {
   "cell_type": "markdown",
   "metadata": {},
   "source": [
    "## 9. Visualize improvements"
   ]
  },
  {
   "cell_type": "code",
   "execution_count": 24,
   "metadata": {},
   "outputs": [
    {
     "name": "stdout",
     "output_type": "stream",
     "text": [
      "\n",
      "✓ Saved comparison plot to ../models/cross_encoder_v2/comparison_v1_v2.png\n"
     ]
    },
    {
     "data": {
      "image/png": "[encoded data removed]",
      "text/plain": [
       "<Figure size 1400x500 with 2 Axes>"
      ]
     },
     "metadata": {},
     "output_type": "display_data"
    }
   ],
   "source": [
    "# Plot AUC comparison by evidence type\n",
    "fig, (ax1, ax2) = plt.subplots(1, 2, figsize=(14, 5))\n",
    "\n",
    "# By evidence type\n",
    "evidence_types = sorted(v1_metrics[\"evidence_type\"].unique())\n",
    "v1_auc_by_type = [v1_metrics[v1_metrics[\"evidence_type\"] == t][\"auc\"].mean() for t in evidence_types]\n",
    "v2_auc_by_type = [v2_metrics[v2_metrics[\"evidence_type\"] == t][\"auc\"].mean() for t in evidence_types]\n",
    "\n",
    "x = np.arange(len(evidence_types))\n",
    "width = 0.35\n",
    "\n",
    "ax1.bar(x - width/2, v1_auc_by_type, width, label='v1', alpha=0.8)\n",
    "ax1.bar(x + width/2, v2_auc_by_type, width, label='v2', alpha=0.8)\n",
    "ax1.set_xlabel('Evidence Type')\n",
    "ax1.set_ylabel('Mean AUC')\n",
    "ax1.set_title('AUC Comparison by Evidence Type')\n",
    "ax1.set_xticks(x)\n",
    "ax1.set_xticklabels(evidence_types)\n",
    "ax1.legend()\n",
    "ax1.grid(True, alpha=0.3, axis='y')\n",
    "\n",
    "# By accuracy category\n",
    "categories = [\"poor\", \"partial\", \"perfect\"]\n",
    "v1_auc_by_cat = [v1_metrics[v1_metrics[\"accuracy_category\"] == c][\"auc\"].mean() if len(v1_metrics[v1_metrics[\"accuracy_category\"] == c]) > 0 else 0 for c in categories]\n",
    "v2_auc_by_cat = [v2_metrics[v2_metrics[\"accuracy_category\"] == c][\"auc\"].mean() if len(v2_metrics[v2_metrics[\"accuracy_category\"] == c]) > 0 else 0 for c in categories]\n",
    "\n",
    "x = np.arange(len(categories))\n",
    "\n",
    "ax2.bar(x - width/2, v1_auc_by_cat, width, label='v1', alpha=0.8)\n",
    "ax2.bar(x + width/2, v2_auc_by_cat, width, label='v2', alpha=0.8)\n",
    "ax2.set_xlabel('Accuracy Category')\n",
    "ax2.set_ylabel('Mean AUC')\n",
    "ax2.set_title('AUC Comparison by Accuracy Category')\n",
    "ax2.set_xticks(x)\n",
    "ax2.set_xticklabels(categories)\n",
    "ax2.legend()\n",
    "ax2.grid(True, alpha=0.3, axis='y')\n",
    "\n",
    "plt.tight_layout()\n",
    "plt.savefig(\"../models/cross_encoder_v2/comparison_v1_v2.png\", dpi=100, bbox_inches='tight')\n",
    "print(\"\\n✓ Saved comparison plot to ../models/cross_encoder_v2/comparison_v1_v2.png\")\n",
    "plt.show()"
   ]
  },
  {
   "cell_type": "markdown",
   "metadata": {},
   "source": [
    "## 10. Acceptance checks"
   ]
  },
  {
   "cell_type": "code",
   "execution_count": 25,
   "metadata": {},
   "outputs": [
    {
     "name": "stdout",
     "output_type": "stream",
     "text": [
      "============================================================\n",
      "ACCEPTANCE CHECKS\n",
      "============================================================\n",
      "\n",
      "✓ Check 1: Models saved\n",
      "  Cross-encoder v2: True\n",
      "  Calibrator v2: True\n",
      "  Result: PASS\n",
      "\n",
      "✓ Check 2: Overall AUC improvement\n",
      "  v1 AUC: 0.9971\n",
      "  v2 AUC: 0.9990\n",
      "  Improvement: +0.0019\n",
      "  Result: PASS\n",
      "\n",
      "✓ Check 3: Ticket AUC improvement (PRIMARY TARGET)\n",
      "  v1 ticket AUC: 0.9944\n",
      "  v2 ticket AUC: 0.9971\n",
      "  Improvement: +0.0027\n",
      "  Result: PASS\n",
      "\n",
      "✓ Check 4: No significant degradation on perfect cases\n",
      "  v1 perfect AUC: 0.9998\n",
      "  v2 perfect AUC: 0.9993\n",
      "  Change: -0.0006\n",
      "  Result: PASS\n",
      "\n",
      "============================================================\n",
      "✅ ALL ACCEPTANCE CHECKS PASSED\n",
      "\n",
      "Notebook 09 completed successfully!\n",
      "\n",
      "Fine-tuned models saved:\n",
      "  - Cross-encoder v2: ../models/cross_encoder_v2\n",
      "  - Calibrator v2: ../models/calibration_v2/cross_iso.pkl\n",
      "\n",
      "Key improvements:\n",
      "  - Ticket AUC: 0.9944 → 0.9971 (+0.0027)\n",
      "  - Overall AUC: 0.9971 → 0.9990 (+0.0019)\n",
      "\n",
      "Next steps:\n",
      "  - Update notebook 06 to use v2 models for production predictions\n",
      "  - Run full pipeline evaluation on test set with v2 models\n",
      "  - Continue collecting feedback for iterative improvement\n",
      "============================================================\n"
     ]
    }
   ],
   "source": [
    "print(\"=\"*60)\n",
    "print(\"ACCEPTANCE CHECKS\")\n",
    "print(\"=\"*60)\n",
    "\n",
    "# Check 1: Models saved\n",
    "check1 = Path(NEW_MODEL_PATH).exists() and Path(calibrator_path).exists()\n",
    "print(f\"\\n✓ Check 1: Models saved\")\n",
    "print(f\"  Cross-encoder v2: {Path(NEW_MODEL_PATH).exists()}\")\n",
    "print(f\"  Calibrator v2: {Path(calibrator_path).exists()}\")\n",
    "print(f\"  Result: {'PASS' if check1 else 'FAIL'}\")\n",
    "\n",
    "# Check 2: Overall improvement\n",
    "overall_improvement = v2_metrics[\"auc\"].mean() > v1_metrics[\"auc\"].mean()\n",
    "print(f\"\\n✓ Check 2: Overall AUC improvement\")\n",
    "print(f\"  v1 AUC: {v1_metrics['auc'].mean():.4f}\")\n",
    "print(f\"  v2 AUC: {v2_metrics['auc'].mean():.4f}\")\n",
    "print(f\"  Improvement: {v2_metrics['auc'].mean() - v1_metrics['auc'].mean():+.4f}\")\n",
    "print(f\"  Result: {'PASS' if overall_improvement else 'FAIL'}\")\n",
    "\n",
    "# Check 3: Ticket improvement\n",
    "v1_ticket = v1_metrics[v1_metrics[\"evidence_type\"] == \"ticket\"][\"auc\"].mean()\n",
    "v2_ticket = v2_metrics[v2_metrics[\"evidence_type\"] == \"ticket\"][\"auc\"].mean()\n",
    "ticket_improvement = v2_ticket > v1_ticket\n",
    "print(f\"\\n✓ Check 3: Ticket AUC improvement (PRIMARY TARGET)\")\n",
    "print(f\"  v1 ticket AUC: {v1_ticket:.4f}\")\n",
    "print(f\"  v2 ticket AUC: {v2_ticket:.4f}\")\n",
    "print(f\"  Improvement: {v2_ticket - v1_ticket:+.4f}\")\n",
    "print(f\"  Result: {'PASS' if ticket_improvement else 'FAIL'}\")\n",
    "\n",
    "# Check 4: No degradation on perfect cases\n",
    "v1_perfect = v1_metrics[v1_metrics[\"accuracy_category\"] == \"perfect\"][\"auc\"].mean()\n",
    "v2_perfect = v2_metrics[v2_metrics[\"accuracy_category\"] == \"perfect\"][\"auc\"].mean()\n",
    "no_degradation = v2_perfect >= (v1_perfect - 0.01)  # Allow 0.01 tolerance\n",
    "print(f\"\\n✓ Check 4: No significant degradation on perfect cases\")\n",
    "print(f\"  v1 perfect AUC: {v1_perfect:.4f}\")\n",
    "print(f\"  v2 perfect AUC: {v2_perfect:.4f}\")\n",
    "print(f\"  Change: {v2_perfect - v1_perfect:+.4f}\")\n",
    "print(f\"  Result: {'PASS' if no_degradation else 'FAIL'}\")\n",
    "\n",
    "# Overall\n",
    "all_checks_passed = check1 and overall_improvement and ticket_improvement and no_degradation\n",
    "print(\"\\n\" + \"=\"*60)\n",
    "if all_checks_passed:\n",
    "    print(\"✅ ALL ACCEPTANCE CHECKS PASSED\")\n",
    "    print(\"\\nNotebook 09 completed successfully!\")\n",
    "    print(f\"\\nFine-tuned models saved:\")\n",
    "    print(f\"  - Cross-encoder v2: {NEW_MODEL_PATH}\")\n",
    "    print(f\"  - Calibrator v2: {calibrator_path}\")\n",
    "    print(f\"\\nKey improvements:\")\n",
    "    print(f\"  - Ticket AUC: {v1_ticket:.4f} → {v2_ticket:.4f} ({v2_ticket - v1_ticket:+.4f})\")\n",
    "    print(f\"  - Overall AUC: {v1_metrics['auc'].mean():.4f} → {v2_metrics['auc'].mean():.4f} ({v2_metrics['auc'].mean() - v1_metrics['auc'].mean():+.4f})\")\n",
    "    print(f\"\\nNext steps:\")\n",
    "    print(f\"  - Update notebook 06 to use v2 models for production predictions\")\n",
    "    print(f\"  - Run full pipeline evaluation on test set with v2 models\")\n",
    "    print(f\"  - Continue collecting feedback for iterative improvement\")\n",
    "else:\n",
    "    print(\"❌ SOME ACCEPTANCE CHECKS FAILED\")\n",
    "    print(\"\\nPlease review the failed checks above\")\n",
    "print(\"=\"*60)"
   ]
  }
 ],
 "metadata": {
  "kernelspec": {
   "display_name": "venv",
   "language": "python",
   "name": "python3"
  },
  "language_info": {
   "codemirror_mode": {
    "name": "ipython",
    "version": 3
   },
   "file_extension": ".py",
   "mimetype": "text/x-python",
   "name": "python",
   "nbconvert_exporter": "python",
   "pygments_lexer": "ipython3",
   "version": "3.12.7"
  }
 },
 "nbformat": 4,
 "nbformat_minor": 4
}
