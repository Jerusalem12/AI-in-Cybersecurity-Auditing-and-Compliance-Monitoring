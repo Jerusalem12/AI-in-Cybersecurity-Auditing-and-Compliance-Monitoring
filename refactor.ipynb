{
 "cells": [
  {
   "cell_type": "code",
   "execution_count": null,
   "id": "1",
   "metadata": {},
   "outputs": [],
   "source": [
    "import pandas as pd\n",
    "\n",
    "# Load the artifacts CSV file\n",
    "df = pd.read_csv('data/raw/artifacts (1).csv')\n",
    "\n",
    "# Shuffle the rows\n",
    "df_shuffled = df.sample(frac=1, random_state=42).reset_index(drop=True)\n",
    "\n",
    "# Display the first few rows\n",
    "print(f\"Original shape: {df.shape}\")\n",
    "print(f\"Shuffled shape: {df_shuffled.shape}\")\n",
    "print(\"\\nFirst 5 rows of shuffled data:\")\n",
    "df_shuffled.head()"
   ]
  }
 ],
 "metadata": {
  "kernelspec": {
   "display_name": "Python 3",
   "language": "python",
   "name": "python3"
  },
  "language_info": {
   "name": "python",
   "version": "3.9.0"
  }
 },
 "nbformat": 4,
 "nbformat_minor": 5
}
